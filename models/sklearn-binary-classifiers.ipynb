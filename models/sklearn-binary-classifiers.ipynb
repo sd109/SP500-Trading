{
 "cells": [
  {
   "cell_type": "markdown",
   "id": "23cf4a80",
   "metadata": {
    "toc": true
   },
   "source": [
    "<h1>Table of Contents<span class=\"tocSkip\"></span></h1>\n",
    "<div class=\"toc\"><ul class=\"toc-item\"><li><span><a href=\"#Data-prep\" data-toc-modified-id=\"Data-prep-1\">Data prep</a></span></li><li><span><a href=\"#Testing-Classifiers\" data-toc-modified-id=\"Testing-Classifiers-2\">Testing Classifiers</a></span><ul class=\"toc-item\"><li><span><a href=\"#Decision-Tree-Classifier\" data-toc-modified-id=\"Decision-Tree-Classifier-2.1\">Decision Tree Classifier</a></span><ul class=\"toc-item\"><li><span><a href=\"#Optimizing-tree-depth\" data-toc-modified-id=\"Optimizing-tree-depth-2.1.1\">Optimizing tree depth</a></span></li></ul></li><li><span><a href=\"#Gradient-Boosting-Classifier\" data-toc-modified-id=\"Gradient-Boosting-Classifier-2.2\">Gradient Boosting Classifier</a></span></li><li><span><a href=\"#Histogram-based-Gradient-Boosting-Classifier\" data-toc-modified-id=\"Histogram-based-Gradient-Boosting-Classifier-2.3\">Histogram-based Gradient Boosting Classifier</a></span></li></ul></li></ul></div>"
   ]
  },
  {
   "cell_type": "code",
   "execution_count": 67,
   "id": "f386530a",
   "metadata": {
    "ExecuteTime": {
     "end_time": "2022-05-12T10:53:37.325723Z",
     "start_time": "2022-05-12T10:53:37.323244Z"
    },
    "code_folding": [
     0
    ]
   },
   "outputs": [],
   "source": [
    "# Imports \n",
    "\n",
    "import datetime as dt\n",
    "import numpy as np\n",
    "import matplotlib.pyplot as plt\n",
    "import pandas as pd\n",
    "from sklearn.model_selection import train_test_split\n",
    "from sklearn.metrics import classification_report, accuracy_score\n",
    "from joblib import Parallel, delayed\n",
    "from tqdm import tqdm\n",
    "\n",
    "import sys\n",
    "sys.path.append(\"/home/scottd/Dropbox/Other-Programming/SP500-Trading/data_wrangling/\")\n",
    "from data_wrangling import TickerData"
   ]
  },
  {
   "cell_type": "markdown",
   "id": "3bcd5c16",
   "metadata": {},
   "source": [
    "# Data prep"
   ]
  },
  {
   "cell_type": "code",
   "execution_count": 2,
   "id": "bbaf88a8",
   "metadata": {
    "ExecuteTime": {
     "end_time": "2022-05-12T10:14:24.232702Z",
     "start_time": "2022-05-12T10:14:22.558215Z"
    },
    "code_folding": [
     0
    ]
   },
   "outputs": [
    {
     "name": "stdout",
     "output_type": "stream",
     "text": [
      "Class value: tensor(False) \t Instance count: tensor(52157)\n",
      "Class value: tensor(True) \t Instance count: tensor(51208)\n"
     ]
    }
   ],
   "source": [
    "# Data loading \n",
    "ticker_data = TickerData(\"/home/scottd/Dropbox/Other-Programming/SP500-Trading/data/\")\n",
    "ds = ticker_data.create_torch_dataset(t0=dt.time(19, 0), t1=dt.time(20, 55), N_classes=2)"
   ]
  },
  {
   "cell_type": "markdown",
   "id": "e84f0d68",
   "metadata": {},
   "source": [
    "Since sklearn doesn't need torch datasets we convert everything to plain old numpy arrays then split into training and testing sets:"
   ]
  },
  {
   "cell_type": "code",
   "execution_count": 16,
   "id": "3f6d7e1a",
   "metadata": {
    "ExecuteTime": {
     "end_time": "2022-05-12T10:26:02.772515Z",
     "start_time": "2022-05-12T10:26:01.827148Z"
    },
    "code_folding": [
     0
    ]
   },
   "outputs": [
    {
     "name": "stderr",
     "output_type": "stream",
     "text": [
      "100%|███████████████████████████████████████████████████████████████████████| 103365/103365 [00:00<00:00, 160048.05it/s]\n"
     ]
    },
    {
     "name": "stdout",
     "output_type": "stream",
     "text": [
      "Percentage of expected buy in: \n",
      " Training set = 0.4980549105869893 \n",
      " Test set = 0.4451538015089959\n"
     ]
    }
   ],
   "source": [
    "# Code \n",
    "X = []\n",
    "Y = []\n",
    "ratios = []\n",
    "for (x, y, r) in tqdm(ds):\n",
    "    X.append(x.numpy().flatten()) #sklearn classifiers only accept 1D input so need to flatten here\n",
    "    Y.append(y.item())\n",
    "    ratios.append(r.item())\n",
    "X, Y, ratios = map(np.array, [X, Y, ratios])\n",
    "    \n",
    "X_train, X_test, Y_train, Y_test, R_train, R_test = train_test_split(X, Y, ratios, shuffle=False, test_size=0.05)\n",
    "\n",
    "print(\n",
    "    \"Percentage of expected buy in: \\n Training set =\", sum(Y_train) / len(Y_train), \n",
    "    \"\\n Test set =\",  sum(Y_test) / len(Y_test)\n",
    ")"
   ]
  },
  {
   "cell_type": "markdown",
   "id": "e5ae8bab",
   "metadata": {},
   "source": [
    "Check the distribution of profit ratios in train/test sets to anticipate potential biases:"
   ]
  },
  {
   "cell_type": "code",
   "execution_count": 4,
   "id": "13509db8",
   "metadata": {
    "ExecuteTime": {
     "end_time": "2022-05-12T10:14:35.721001Z",
     "start_time": "2022-05-12T10:14:35.388820Z"
    },
    "code_folding": [
     0
    ]
   },
   "outputs": [
    {
     "data": {
      "image/png": "[encoded data removed]",
      "text/plain": [
       "<Figure size 576x288 with 1 Axes>"
      ]
     },
     "metadata": {
      "needs_background": "light"
     },
     "output_type": "display_data"
    }
   ],
   "source": [
    "# Code \n",
    "fig, ax = plt.subplots(figsize=(8, 4))\n",
    "\n",
    "kwargs = {\"bins\":100, \"histtype\":\"bar\", \"alpha\":0.25, \"density\":True}\n",
    "ax.hist(R_train, color=\"b\", label=\"Training set\", **kwargs)\n",
    "ax.hist(R_test, color=\"r\", label=\"Test set\", **kwargs)\n",
    "ax.legend()\n",
    "\n",
    "plt.tight_layout()"
   ]
  },
  {
   "cell_type": "markdown",
   "id": "e8389bf3",
   "metadata": {},
   "source": [
    "# Testing Classifiers"
   ]
  },
  {
   "cell_type": "markdown",
   "id": "15776947",
   "metadata": {},
   "source": [
    "## Decision Tree Classifier"
   ]
  },
  {
   "cell_type": "code",
   "execution_count": 5,
   "id": "799a040c",
   "metadata": {
    "ExecuteTime": {
     "end_time": "2022-05-12T10:18:55.030687Z",
     "start_time": "2022-05-12T10:17:55.994229Z"
    },
    "code_folding": [
     0
    ]
   },
   "outputs": [
    {
     "data": {
      "text/plain": [
       "DecisionTreeClassifier(max_depth=10)"
      ]
     },
     "execution_count": 5,
     "metadata": {},
     "output_type": "execute_result"
    }
   ],
   "source": [
    "# Code \n",
    "from sklearn.tree import DecisionTreeClassifier\n",
    "\n",
    "model = DecisionTreeClassifier(\n",
    "    max_depth=10,\n",
    ")\n",
    "model.fit(X_train, Y_train)"
   ]
  },
  {
   "cell_type": "code",
   "execution_count": 6,
   "id": "6b4b11d7",
   "metadata": {
    "ExecuteTime": {
     "end_time": "2022-05-12T10:18:55.161025Z",
     "start_time": "2022-05-12T10:18:55.031913Z"
    }
   },
   "outputs": [
    {
     "name": "stdout",
     "output_type": "stream",
     "text": [
      "              precision    recall  f1-score   support\n",
      "\n",
      "       False       0.70      0.72      0.71     49289\n",
      "        True       0.71      0.68      0.69     48907\n",
      "\n",
      "    accuracy                           0.70     98196\n",
      "   macro avg       0.70      0.70      0.70     98196\n",
      "weighted avg       0.70      0.70      0.70     98196\n",
      "\n"
     ]
    }
   ],
   "source": [
    "Y_train_pred = model.predict(X_train)\n",
    "print(classification_report(Y_train, Y_train_pred))"
   ]
  },
  {
   "cell_type": "code",
   "execution_count": 7,
   "id": "74f2c2b2",
   "metadata": {
    "ExecuteTime": {
     "end_time": "2022-05-12T10:18:55.172182Z",
     "start_time": "2022-05-12T10:18:55.162197Z"
    }
   },
   "outputs": [
    {
     "name": "stdout",
     "output_type": "stream",
     "text": [
      "              precision    recall  f1-score   support\n",
      "\n",
      "       False       0.55      0.43      0.48      2868\n",
      "        True       0.44      0.57      0.50      2301\n",
      "\n",
      "    accuracy                           0.49      5169\n",
      "   macro avg       0.50      0.50      0.49      5169\n",
      "weighted avg       0.50      0.49      0.49      5169\n",
      "\n"
     ]
    }
   ],
   "source": [
    "Y_test_pred = model.predict(X_test)\n",
    "print(classification_report(Y_test, Y_test_pred))"
   ]
  },
  {
   "cell_type": "markdown",
   "id": "53ed57a5",
   "metadata": {},
   "source": [
    "Increasing max tree depth:"
   ]
  },
  {
   "cell_type": "code",
   "execution_count": 8,
   "id": "89b794b7",
   "metadata": {
    "ExecuteTime": {
     "end_time": "2022-05-12T10:21:47.095744Z",
     "start_time": "2022-05-12T10:19:52.832307Z"
    },
    "code_folding": []
   },
   "outputs": [
    {
     "data": {
      "text/plain": [
       "DecisionTreeClassifier(max_depth=100)"
      ]
     },
     "execution_count": 8,
     "metadata": {},
     "output_type": "execute_result"
    }
   ],
   "source": [
    "# Code \n",
    "from sklearn.tree import DecisionTreeClassifier\n",
    "\n",
    "model = DecisionTreeClassifier(\n",
    "    max_depth=100,\n",
    ")\n",
    "model.fit(X_train, Y_train)"
   ]
  },
  {
   "cell_type": "code",
   "execution_count": 9,
   "id": "861edd2a",
   "metadata": {
    "ExecuteTime": {
     "end_time": "2022-05-12T10:21:47.251002Z",
     "start_time": "2022-05-12T10:21:47.097098Z"
    }
   },
   "outputs": [
    {
     "name": "stdout",
     "output_type": "stream",
     "text": [
      "              precision    recall  f1-score   support\n",
      "\n",
      "       False       1.00      1.00      1.00     49289\n",
      "        True       1.00      1.00      1.00     48907\n",
      "\n",
      "    accuracy                           1.00     98196\n",
      "   macro avg       1.00      1.00      1.00     98196\n",
      "weighted avg       1.00      1.00      1.00     98196\n",
      "\n"
     ]
    }
   ],
   "source": [
    "Y_train_pred = model.predict(X_train)\n",
    "print(classification_report(Y_train, Y_train_pred))"
   ]
  },
  {
   "cell_type": "code",
   "execution_count": 10,
   "id": "33c05ee1",
   "metadata": {
    "ExecuteTime": {
     "end_time": "2022-05-12T10:21:47.262642Z",
     "start_time": "2022-05-12T10:21:47.251910Z"
    }
   },
   "outputs": [
    {
     "name": "stdout",
     "output_type": "stream",
     "text": [
      "              precision    recall  f1-score   support\n",
      "\n",
      "       False       0.57      0.56      0.56      2868\n",
      "        True       0.46      0.46      0.46      2301\n",
      "\n",
      "    accuracy                           0.52      5169\n",
      "   macro avg       0.51      0.51      0.51      5169\n",
      "weighted avg       0.52      0.52      0.52      5169\n",
      "\n"
     ]
    }
   ],
   "source": [
    "Y_test_pred = model.predict(X_test)\n",
    "print(classification_report(Y_test, Y_test_pred))"
   ]
  },
  {
   "cell_type": "markdown",
   "id": "8ce50bf1",
   "metadata": {},
   "source": [
    "### Optimizing tree depth\n",
    "\n",
    "Parallelize fitting of trees with various depths then plot train and test set accuracies vs tree depth:"
   ]
  },
  {
   "cell_type": "code",
   "execution_count": 40,
   "id": "73e0cea3",
   "metadata": {
    "ExecuteTime": {
     "end_time": "2022-05-12T10:40:03.666990Z",
     "start_time": "2022-05-12T10:36:10.434081Z"
    },
    "code_folding": [
     0
    ]
   },
   "outputs": [],
   "source": [
    "# Code \n",
    "depths = range(5, 100, 5)\n",
    "\n",
    "def score_model(max_depth):\n",
    "    model = DecisionTreeClassifier(max_depth=max_depth)\n",
    "    model.fit(X_train, Y_train)\n",
    "    return [\n",
    "        accuracy_score(Y_train, model.predict(X_train)),\n",
    "        accuracy_score(Y_test, model.predict(X_test)),\n",
    "    ]\n",
    "\n",
    "def plot_results(depths, scores):\n",
    "    train_scores, test_scores = list(zip(*scores))\n",
    "    fig, ax = plt.subplots(figsize=(8, 4))\n",
    "    ax.scatter(depths, train_scores, label=\"Training Set\")\n",
    "    ax.scatter(depths, test_scores, label=\"Test Set\")\n",
    "    ax.set_xlabel(\"Tree depth\")\n",
    "    ax.set_ylabel(\"Classification Accuracy\")\n",
    "    ax.set_ylim(0, 1.05)\n",
    "    ax.axhline([0.5], ls=\"--\")\n",
    "    ax.legend()\n",
    "    plt.show()\n",
    "        \n",
    "# score_model(depths[0])\n",
    "scores = Parallel(n_jobs=16)(delayed(score_model)(d) for d in depths) #Parallelize model training"
   ]
  },
  {
   "cell_type": "code",
   "execution_count": 45,
   "id": "08b9553f",
   "metadata": {
    "ExecuteTime": {
     "end_time": "2022-05-12T10:43:11.749406Z",
     "start_time": "2022-05-12T10:43:11.676437Z"
    },
    "code_folding": []
   },
   "outputs": [
    {
     "data": {
      "image/png": "[encoded data removed]",
      "text/plain": [
       "<Figure size 576x288 with 1 Axes>"
      ]
     },
     "metadata": {
      "needs_background": "light"
     },
     "output_type": "display_data"
    }
   ],
   "source": [
    "plot_results(depths, scores)"
   ]
  },
  {
   "cell_type": "markdown",
   "id": "1008ca04",
   "metadata": {},
   "source": [
    "Above plot implies that very shallow trees might actually work best so try fine-tuning of shallow trees:"
   ]
  },
  {
   "cell_type": "code",
   "execution_count": 46,
   "id": "bed13d7e",
   "metadata": {
    "ExecuteTime": {
     "end_time": "2022-05-12T10:45:09.760317Z",
     "start_time": "2022-05-12T10:44:09.475984Z"
    },
    "code_folding": [
     0
    ]
   },
   "outputs": [
    {
     "data": {
      "image/png": "[encoded data removed]",
      "text/plain": [
       "<Figure size 576x288 with 1 Axes>"
      ]
     },
     "metadata": {
      "needs_background": "light"
     },
     "output_type": "display_data"
    }
   ],
   "source": [
    "# Code \n",
    "depths = range(1, 10)\n",
    "scores = Parallel(n_jobs=16)(delayed(score_model)(d) for d in depths) #Parallelize model training\n",
    "plot_results(depths, scores)"
   ]
  },
  {
   "cell_type": "markdown",
   "id": "f89775e4",
   "metadata": {
    "ExecuteTime": {
     "end_time": "2022-05-12T10:46:17.332570Z",
     "start_time": "2022-05-12T10:46:17.329736Z"
    }
   },
   "source": [
    "From the above plot, it looks like a tree depth of 5 or 6 might be best. Let's dig into the performance of a model with max tree depth of 5:"
   ]
  },
  {
   "cell_type": "code",
   "execution_count": 57,
   "id": "e5c38036",
   "metadata": {
    "ExecuteTime": {
     "end_time": "2022-05-12T10:51:27.981067Z",
     "start_time": "2022-05-12T10:50:55.597907Z"
    },
    "code_folding": [
     0
    ]
   },
   "outputs": [
    {
     "name": "stdout",
     "output_type": "stream",
     "text": [
      "Training set:\n",
      "               precision    recall  f1-score   support\n",
      "\n",
      "       False       0.58      0.85      0.69     49289\n",
      "        True       0.71      0.36      0.48     48907\n",
      "\n",
      "    accuracy                           0.61     98196\n",
      "   macro avg       0.64      0.61      0.58     98196\n",
      "weighted avg       0.64      0.61      0.59     98196\n",
      "\n",
      "\n",
      "Test set:\n",
      "               precision    recall  f1-score   support\n",
      "\n",
      "       False       0.57      0.78      0.66      2868\n",
      "        True       0.49      0.25      0.33      2301\n",
      "\n",
      "    accuracy                           0.55      5169\n",
      "   macro avg       0.53      0.52      0.50      5169\n",
      "weighted avg       0.53      0.55      0.51      5169\n",
      "\n"
     ]
    }
   ],
   "source": [
    "# Code - train model \n",
    "best_tree_model = DecisionTreeClassifier(max_depth=5)\n",
    "best_tree_model.fit(X_train, Y_train)\n",
    "\n",
    "Y_train_pred = best_tree_model.predict(X_train)\n",
    "print(\"Training set:\\n\", classification_report(Y_train, Y_train_pred))\n",
    "\n",
    "Y_test_pred = best_tree_model.predict(X_test)\n",
    "print(\"\\nTest set:\\n\", classification_report(Y_test, Y_test_pred))"
   ]
  },
  {
   "cell_type": "code",
   "execution_count": 87,
   "id": "f19eb290",
   "metadata": {
    "ExecuteTime": {
     "end_time": "2022-05-12T10:57:40.571484Z",
     "start_time": "2022-05-12T10:57:40.566015Z"
    }
   },
   "outputs": [
    {
     "data": {
      "text/plain": [
       "count    48907.000000\n",
       "mean         1.006271\n",
       "std          0.006474\n",
       "min          1.000020\n",
       "25%          1.001985\n",
       "50%          1.004382\n",
       "75%          1.008306\n",
       "max          1.121536\n",
       "dtype: float64"
      ]
     },
     "execution_count": 87,
     "metadata": {},
     "output_type": "execute_result"
    }
   ],
   "source": [
    "pd.Series(R_train[Y_train]).describe()"
   ]
  },
  {
   "cell_type": "code",
   "execution_count": 70,
   "id": "ba34242d",
   "metadata": {
    "ExecuteTime": {
     "end_time": "2022-05-12T10:54:09.647041Z",
     "start_time": "2022-05-12T10:54:09.642191Z"
    }
   },
   "outputs": [
    {
     "data": {
      "text/plain": [
       "count    25050.000000\n",
       "mean         1.004661\n",
       "std          0.009264\n",
       "min          0.866457\n",
       "25%          0.999358\n",
       "50%          1.003567\n",
       "75%          1.008899\n",
       "max          1.117415\n",
       "dtype: float64"
      ]
     },
     "execution_count": 70,
     "metadata": {},
     "output_type": "execute_result"
    }
   ],
   "source": [
    "pd.Series(R_train[Y_train_pred]).describe()"
   ]
  },
  {
   "cell_type": "code",
   "execution_count": 88,
   "id": "9beb185a",
   "metadata": {
    "ExecuteTime": {
     "end_time": "2022-05-12T10:58:08.466736Z",
     "start_time": "2022-05-12T10:58:08.462299Z"
    }
   },
   "outputs": [
    {
     "data": {
      "text/plain": [
       "count    2301.000000\n",
       "mean        1.004110\n",
       "std         0.004472\n",
       "min         1.000036\n",
       "25%         1.001343\n",
       "50%         1.003031\n",
       "75%         1.005484\n",
       "max         1.106933\n",
       "dtype: float64"
      ]
     },
     "execution_count": 88,
     "metadata": {},
     "output_type": "execute_result"
    }
   ],
   "source": [
    "pd.Series(R_test[Y_test]).describe()"
   ]
  },
  {
   "cell_type": "code",
   "execution_count": 69,
   "id": "6d033885",
   "metadata": {
    "ExecuteTime": {
     "end_time": "2022-05-12T10:53:48.781084Z",
     "start_time": "2022-05-12T10:53:48.772731Z"
    }
   },
   "outputs": [
    {
     "data": {
      "text/plain": [
       "count    1204.000000\n",
       "mean        0.999870\n",
       "std         0.006292\n",
       "min         0.978245\n",
       "25%         0.996753\n",
       "50%         0.999894\n",
       "75%         1.002877\n",
       "max         1.106933\n",
       "dtype: float64"
      ]
     },
     "execution_count": 69,
     "metadata": {},
     "output_type": "execute_result"
    }
   ],
   "source": [
    "pd.Series(R_test[Y_test_pred]).describe()"
   ]
  },
  {
   "cell_type": "markdown",
   "id": "f4449c6f",
   "metadata": {},
   "source": [
    "## Gradient Boosting Classifier"
   ]
  },
  {
   "cell_type": "code",
   "execution_count": 74,
   "id": "e8a554df",
   "metadata": {
    "ExecuteTime": {
     "end_time": "2022-04-15T10:11:31.022222Z",
     "start_time": "2022-04-15T10:08:17.649583Z"
    },
    "code_folding": [
     0
    ]
   },
   "outputs": [
    {
     "name": "stdout",
     "output_type": "stream",
     "text": [
      "      Iter       Train Loss   Remaining Time \n",
      "         1           1.3768            2.92m\n",
      "         2           1.3696            2.60m\n",
      "         3           1.3596            2.26m\n",
      "         4           1.3494            1.93m\n",
      "         5           1.3424            1.61m\n",
      "         6           1.3349            1.29m\n",
      "         7           1.3260           57.87s\n",
      "         8           1.3207           38.65s\n",
      "         9           1.3137           19.32s\n",
      "        10           1.3080            0.00s\n"
     ]
    },
    {
     "data": {
      "text/plain": [
       "GradientBoostingClassifier(n_estimators=10, verbose=True)"
      ]
     },
     "execution_count": 74,
     "metadata": {},
     "output_type": "execute_result"
    }
   ],
   "source": [
    "# Code \n",
    "from sklearn.ensemble import GradientBoostingClassifier\n",
    "\n",
    "model = GradientBoostingClassifier(\n",
    "    n_estimators=10,\n",
    "    verbose=True, #Print progress info during training\n",
    ")\n",
    "model.fit(X_train, Y_train)"
   ]
  },
  {
   "cell_type": "code",
   "execution_count": 78,
   "id": "dbf2afce",
   "metadata": {
    "ExecuteTime": {
     "end_time": "2022-04-15T10:11:42.270231Z",
     "start_time": "2022-04-15T10:11:42.078490Z"
    }
   },
   "outputs": [
    {
     "name": "stdout",
     "output_type": "stream",
     "text": [
      "              precision    recall  f1-score   support\n",
      "\n",
      "       False       0.65      0.76      0.70     49289\n",
      "        True       0.71      0.58      0.64     48907\n",
      "\n",
      "    accuracy                           0.67     98196\n",
      "   macro avg       0.68      0.67      0.67     98196\n",
      "weighted avg       0.68      0.67      0.67     98196\n",
      "\n"
     ]
    }
   ],
   "source": [
    "Y_train_pred = model.predict(X_train)\n",
    "print(classification_report(Y_train, Y_train_pred))"
   ]
  },
  {
   "cell_type": "code",
   "execution_count": 79,
   "id": "84a2df6d",
   "metadata": {
    "ExecuteTime": {
     "end_time": "2022-04-15T10:12:05.435889Z",
     "start_time": "2022-04-15T10:12:05.422647Z"
    }
   },
   "outputs": [
    {
     "name": "stdout",
     "output_type": "stream",
     "text": [
      "              precision    recall  f1-score   support\n",
      "\n",
      "       False       0.56      0.24      0.33      2868\n",
      "        True       0.45      0.77      0.56      2301\n",
      "\n",
      "    accuracy                           0.47      5169\n",
      "   macro avg       0.50      0.50      0.45      5169\n",
      "weighted avg       0.51      0.47      0.44      5169\n",
      "\n"
     ]
    }
   ],
   "source": [
    "Y_test_pred = model.predict(X_test)\n",
    "print(classification_report(Y_test, Y_test_pred))"
   ]
  },
  {
   "cell_type": "code",
   "execution_count": 91,
   "id": "314daed4",
   "metadata": {
    "ExecuteTime": {
     "end_time": "2022-05-12T12:44:47.085237Z",
     "start_time": "2022-05-12T12:44:46.621061Z"
    }
   },
   "outputs": [
    {
     "data": {
      "text/plain": [
       "(103365, 5, 391)"
      ]
     },
     "execution_count": 91,
     "metadata": {},
     "output_type": "execute_result"
    }
   ],
   "source": [
    "np.load(\"../data/data-array.npy\").shape"
   ]
  },
  {
   "cell_type": "code",
   "execution_count": null,
   "id": "97a6437e",
   "metadata": {
    "ExecuteTime": {
     "start_time": "2022-05-12T12:47:59.824Z"
    }
   },
   "outputs": [],
   "source": [
    "len(ticker_data.cleaned_df.Date.unique())"
   ]
  },
  {
   "cell_type": "code",
   "execution_count": 89,
   "id": "14da3453",
   "metadata": {
    "ExecuteTime": {
     "end_time": "2022-05-12T12:44:22.142020Z",
     "start_time": "2022-05-12T12:43:32.206731Z"
    }
   },
   "outputs": [
    {
     "name": "stdout",
     "output_type": "stream",
     "text": [
      "Loading cleaned data\n",
      "Loading averaged data\n"
     ]
    },
    {
     "name": "stderr",
     "output_type": "stream",
     "text": [
      "  1%|▍                                                                             | 562/103365 [00:08<26:30, 64.65it/s]\n"
     ]
    },
    {
     "ename": "KeyboardInterrupt",
     "evalue": "",
     "output_type": "error",
     "traceback": [
      "\u001b[0;31m---------------------------------------------------------------------------\u001b[0m",
      "\u001b[0;31mKeyboardInterrupt\u001b[0m                         Traceback (most recent call last)",
      "\u001b[0;32m/tmp/ipykernel_1103/2604981931.py\u001b[0m in \u001b[0;36m<module>\u001b[0;34m\u001b[0m\n\u001b[0;32m----> 1\u001b[0;31m \u001b[0mticker_data\u001b[0m\u001b[0;34m.\u001b[0m\u001b[0mcreate_data_array\u001b[0m\u001b[0;34m(\u001b[0m\u001b[0;34m)\u001b[0m\u001b[0;34m\u001b[0m\u001b[0;34m\u001b[0m\u001b[0m\n\u001b[0m",
      "\u001b[0;32m~/Dropbox/Other-Programming/SP500-Trading/data_wrangling/data_wrangling.py\u001b[0m in \u001b[0;36mcreate_data_array\u001b[0;34m(self, save_name, dtype)\u001b[0m\n\u001b[1;32m    172\u001b[0m         \u001b[0mdata_list\u001b[0m \u001b[0;34m=\u001b[0m \u001b[0;34m[\u001b[0m\u001b[0;34m]\u001b[0m\u001b[0;34m\u001b[0m\u001b[0;34m\u001b[0m\u001b[0m\n\u001b[1;32m    173\u001b[0m         \u001b[0;32mfor\u001b[0m \u001b[0;34m(\u001b[0m\u001b[0mdate\u001b[0m\u001b[0;34m,\u001b[0m \u001b[0mticker\u001b[0m\u001b[0;34m)\u001b[0m\u001b[0;34m,\u001b[0m \u001b[0mdf_subset\u001b[0m \u001b[0;32min\u001b[0m \u001b[0mtqdm\u001b[0m\u001b[0;34m(\u001b[0m\u001b[0mgroups\u001b[0m\u001b[0;34m)\u001b[0m\u001b[0;34m:\u001b[0m \u001b[0;31m#Serial seems to be about 30% faster than parallel in this particular case\u001b[0m\u001b[0;34m\u001b[0m\u001b[0;34m\u001b[0m\u001b[0m\n\u001b[0;32m--> 174\u001b[0;31m             \u001b[0midxs\u001b[0m \u001b[0;34m=\u001b[0m \u001b[0maug_df\u001b[0m\u001b[0;34m.\u001b[0m\u001b[0mDate\u001b[0m \u001b[0;34m==\u001b[0m \u001b[0mdate\u001b[0m\u001b[0;34m\u001b[0m\u001b[0;34m\u001b[0m\u001b[0m\n\u001b[0m\u001b[1;32m    175\u001b[0m             \u001b[0mdata_list\u001b[0m\u001b[0;34m.\u001b[0m\u001b[0mappend\u001b[0m\u001b[0;34m(\u001b[0m\u001b[0;34m[\u001b[0m\u001b[0mdf_subset\u001b[0m\u001b[0;34m.\u001b[0m\u001b[0mc\u001b[0m\u001b[0;34m.\u001b[0m\u001b[0mvalues\u001b[0m\u001b[0;34m,\u001b[0m \u001b[0mdf_subset\u001b[0m\u001b[0;34m.\u001b[0m\u001b[0mv\u001b[0m\u001b[0;34m.\u001b[0m\u001b[0mvalues\u001b[0m\u001b[0;34m,\u001b[0m \u001b[0maug_df\u001b[0m\u001b[0;34m.\u001b[0m\u001b[0mc_avg\u001b[0m\u001b[0;34m[\u001b[0m\u001b[0midxs\u001b[0m\u001b[0;34m]\u001b[0m\u001b[0;34m.\u001b[0m\u001b[0mvalues\u001b[0m\u001b[0;34m,\u001b[0m \u001b[0maug_df\u001b[0m\u001b[0;34m.\u001b[0m\u001b[0mv_avg\u001b[0m\u001b[0;34m[\u001b[0m\u001b[0midxs\u001b[0m\u001b[0;34m]\u001b[0m\u001b[0;34m.\u001b[0m\u001b[0mvalues\u001b[0m\u001b[0;34m,\u001b[0m \u001b[0maug_df\u001b[0m\u001b[0;34m.\u001b[0m\u001b[0mc_vwa\u001b[0m\u001b[0;34m[\u001b[0m\u001b[0midxs\u001b[0m\u001b[0;34m]\u001b[0m\u001b[0;34m.\u001b[0m\u001b[0mvalues\u001b[0m\u001b[0;34m]\u001b[0m\u001b[0;34m)\u001b[0m\u001b[0;34m\u001b[0m\u001b[0;34m\u001b[0m\u001b[0m\n\u001b[1;32m    176\u001b[0m \u001b[0;34m\u001b[0m\u001b[0m\n",
      "\u001b[0;32m~/anaconda3/envs/ml-env-pytorch/lib/python3.9/site-packages/pandas/core/ops/common.py\u001b[0m in \u001b[0;36mnew_method\u001b[0;34m(self, other)\u001b[0m\n\u001b[1;32m     67\u001b[0m         \u001b[0mother\u001b[0m \u001b[0;34m=\u001b[0m \u001b[0mitem_from_zerodim\u001b[0m\u001b[0;34m(\u001b[0m\u001b[0mother\u001b[0m\u001b[0;34m)\u001b[0m\u001b[0;34m\u001b[0m\u001b[0;34m\u001b[0m\u001b[0m\n\u001b[1;32m     68\u001b[0m \u001b[0;34m\u001b[0m\u001b[0m\n\u001b[0;32m---> 69\u001b[0;31m         \u001b[0;32mreturn\u001b[0m \u001b[0mmethod\u001b[0m\u001b[0;34m(\u001b[0m\u001b[0mself\u001b[0m\u001b[0;34m,\u001b[0m \u001b[0mother\u001b[0m\u001b[0;34m)\u001b[0m\u001b[0;34m\u001b[0m\u001b[0;34m\u001b[0m\u001b[0m\n\u001b[0m\u001b[1;32m     70\u001b[0m \u001b[0;34m\u001b[0m\u001b[0m\n\u001b[1;32m     71\u001b[0m     \u001b[0;32mreturn\u001b[0m \u001b[0mnew_method\u001b[0m\u001b[0;34m\u001b[0m\u001b[0;34m\u001b[0m\u001b[0m\n",
      "\u001b[0;32m~/anaconda3/envs/ml-env-pytorch/lib/python3.9/site-packages/pandas/core/arraylike.py\u001b[0m in \u001b[0;36m__eq__\u001b[0;34m(self, other)\u001b[0m\n\u001b[1;32m     30\u001b[0m     \u001b[0;34m@\u001b[0m\u001b[0munpack_zerodim_and_defer\u001b[0m\u001b[0;34m(\u001b[0m\u001b[0;34m\"__eq__\"\u001b[0m\u001b[0;34m)\u001b[0m\u001b[0;34m\u001b[0m\u001b[0;34m\u001b[0m\u001b[0m\n\u001b[1;32m     31\u001b[0m     \u001b[0;32mdef\u001b[0m \u001b[0m__eq__\u001b[0m\u001b[0;34m(\u001b[0m\u001b[0mself\u001b[0m\u001b[0;34m,\u001b[0m \u001b[0mother\u001b[0m\u001b[0;34m)\u001b[0m\u001b[0;34m:\u001b[0m\u001b[0;34m\u001b[0m\u001b[0;34m\u001b[0m\u001b[0m\n\u001b[0;32m---> 32\u001b[0;31m         \u001b[0;32mreturn\u001b[0m \u001b[0mself\u001b[0m\u001b[0;34m.\u001b[0m\u001b[0m_cmp_method\u001b[0m\u001b[0;34m(\u001b[0m\u001b[0mother\u001b[0m\u001b[0;34m,\u001b[0m \u001b[0moperator\u001b[0m\u001b[0;34m.\u001b[0m\u001b[0meq\u001b[0m\u001b[0;34m)\u001b[0m\u001b[0;34m\u001b[0m\u001b[0;34m\u001b[0m\u001b[0m\n\u001b[0m\u001b[1;32m     33\u001b[0m \u001b[0;34m\u001b[0m\u001b[0m\n\u001b[1;32m     34\u001b[0m     \u001b[0;34m@\u001b[0m\u001b[0munpack_zerodim_and_defer\u001b[0m\u001b[0;34m(\u001b[0m\u001b[0;34m\"__ne__\"\u001b[0m\u001b[0;34m)\u001b[0m\u001b[0;34m\u001b[0m\u001b[0;34m\u001b[0m\u001b[0m\n",
      "\u001b[0;32m~/anaconda3/envs/ml-env-pytorch/lib/python3.9/site-packages/pandas/core/series.py\u001b[0m in \u001b[0;36m_cmp_method\u001b[0;34m(self, other, op)\u001b[0m\n\u001b[1;32m   5500\u001b[0m \u001b[0;34m\u001b[0m\u001b[0m\n\u001b[1;32m   5501\u001b[0m         \u001b[0;32mwith\u001b[0m \u001b[0mnp\u001b[0m\u001b[0;34m.\u001b[0m\u001b[0merrstate\u001b[0m\u001b[0;34m(\u001b[0m\u001b[0mall\u001b[0m\u001b[0;34m=\u001b[0m\u001b[0;34m\"ignore\"\u001b[0m\u001b[0;34m)\u001b[0m\u001b[0;34m:\u001b[0m\u001b[0;34m\u001b[0m\u001b[0;34m\u001b[0m\u001b[0m\n\u001b[0;32m-> 5502\u001b[0;31m             \u001b[0mres_values\u001b[0m \u001b[0;34m=\u001b[0m \u001b[0mops\u001b[0m\u001b[0;34m.\u001b[0m\u001b[0mcomparison_op\u001b[0m\u001b[0;34m(\u001b[0m\u001b[0mlvalues\u001b[0m\u001b[0;34m,\u001b[0m \u001b[0mrvalues\u001b[0m\u001b[0;34m,\u001b[0m \u001b[0mop\u001b[0m\u001b[0;34m)\u001b[0m\u001b[0;34m\u001b[0m\u001b[0;34m\u001b[0m\u001b[0m\n\u001b[0m\u001b[1;32m   5503\u001b[0m \u001b[0;34m\u001b[0m\u001b[0m\n\u001b[1;32m   5504\u001b[0m         \u001b[0;32mreturn\u001b[0m \u001b[0mself\u001b[0m\u001b[0;34m.\u001b[0m\u001b[0m_construct_result\u001b[0m\u001b[0;34m(\u001b[0m\u001b[0mres_values\u001b[0m\u001b[0;34m,\u001b[0m \u001b[0mname\u001b[0m\u001b[0;34m=\u001b[0m\u001b[0mres_name\u001b[0m\u001b[0;34m)\u001b[0m\u001b[0;34m\u001b[0m\u001b[0;34m\u001b[0m\u001b[0m\n",
      "\u001b[0;32m~/anaconda3/envs/ml-env-pytorch/lib/python3.9/site-packages/pandas/core/ops/array_ops.py\u001b[0m in \u001b[0;36mcomparison_op\u001b[0;34m(left, right, op)\u001b[0m\n\u001b[1;32m    282\u001b[0m \u001b[0;34m\u001b[0m\u001b[0m\n\u001b[1;32m    283\u001b[0m     \u001b[0;32melif\u001b[0m \u001b[0mis_object_dtype\u001b[0m\u001b[0;34m(\u001b[0m\u001b[0mlvalues\u001b[0m\u001b[0;34m.\u001b[0m\u001b[0mdtype\u001b[0m\u001b[0;34m)\u001b[0m \u001b[0;32mor\u001b[0m \u001b[0misinstance\u001b[0m\u001b[0;34m(\u001b[0m\u001b[0mrvalues\u001b[0m\u001b[0;34m,\u001b[0m \u001b[0mstr\u001b[0m\u001b[0;34m)\u001b[0m\u001b[0;34m:\u001b[0m\u001b[0;34m\u001b[0m\u001b[0;34m\u001b[0m\u001b[0m\n\u001b[0;32m--> 284\u001b[0;31m         \u001b[0mres_values\u001b[0m \u001b[0;34m=\u001b[0m \u001b[0mcomp_method_OBJECT_ARRAY\u001b[0m\u001b[0;34m(\u001b[0m\u001b[0mop\u001b[0m\u001b[0;34m,\u001b[0m \u001b[0mlvalues\u001b[0m\u001b[0;34m,\u001b[0m \u001b[0mrvalues\u001b[0m\u001b[0;34m)\u001b[0m\u001b[0;34m\u001b[0m\u001b[0;34m\u001b[0m\u001b[0m\n\u001b[0m\u001b[1;32m    285\u001b[0m \u001b[0;34m\u001b[0m\u001b[0m\n\u001b[1;32m    286\u001b[0m     \u001b[0;32melse\u001b[0m\u001b[0;34m:\u001b[0m\u001b[0;34m\u001b[0m\u001b[0;34m\u001b[0m\u001b[0m\n",
      "\u001b[0;32m~/anaconda3/envs/ml-env-pytorch/lib/python3.9/site-packages/pandas/core/ops/array_ops.py\u001b[0m in \u001b[0;36mcomp_method_OBJECT_ARRAY\u001b[0;34m(op, x, y)\u001b[0m\n\u001b[1;32m     71\u001b[0m         \u001b[0mresult\u001b[0m \u001b[0;34m=\u001b[0m \u001b[0mlibops\u001b[0m\u001b[0;34m.\u001b[0m\u001b[0mvec_compare\u001b[0m\u001b[0;34m(\u001b[0m\u001b[0mx\u001b[0m\u001b[0;34m.\u001b[0m\u001b[0mravel\u001b[0m\u001b[0;34m(\u001b[0m\u001b[0;34m)\u001b[0m\u001b[0;34m,\u001b[0m \u001b[0my\u001b[0m\u001b[0;34m.\u001b[0m\u001b[0mravel\u001b[0m\u001b[0;34m(\u001b[0m\u001b[0;34m)\u001b[0m\u001b[0;34m,\u001b[0m \u001b[0mop\u001b[0m\u001b[0;34m)\u001b[0m\u001b[0;34m\u001b[0m\u001b[0;34m\u001b[0m\u001b[0m\n\u001b[1;32m     72\u001b[0m     \u001b[0;32melse\u001b[0m\u001b[0;34m:\u001b[0m\u001b[0;34m\u001b[0m\u001b[0;34m\u001b[0m\u001b[0m\n\u001b[0;32m---> 73\u001b[0;31m         \u001b[0mresult\u001b[0m \u001b[0;34m=\u001b[0m \u001b[0mlibops\u001b[0m\u001b[0;34m.\u001b[0m\u001b[0mscalar_compare\u001b[0m\u001b[0;34m(\u001b[0m\u001b[0mx\u001b[0m\u001b[0;34m.\u001b[0m\u001b[0mravel\u001b[0m\u001b[0;34m(\u001b[0m\u001b[0;34m)\u001b[0m\u001b[0;34m,\u001b[0m \u001b[0my\u001b[0m\u001b[0;34m,\u001b[0m \u001b[0mop\u001b[0m\u001b[0;34m)\u001b[0m\u001b[0;34m\u001b[0m\u001b[0;34m\u001b[0m\u001b[0m\n\u001b[0m\u001b[1;32m     74\u001b[0m     \u001b[0;32mreturn\u001b[0m \u001b[0mresult\u001b[0m\u001b[0;34m.\u001b[0m\u001b[0mreshape\u001b[0m\u001b[0;34m(\u001b[0m\u001b[0mx\u001b[0m\u001b[0;34m.\u001b[0m\u001b[0mshape\u001b[0m\u001b[0;34m)\u001b[0m\u001b[0;34m\u001b[0m\u001b[0;34m\u001b[0m\u001b[0m\n\u001b[1;32m     75\u001b[0m \u001b[0;34m\u001b[0m\u001b[0m\n",
      "\u001b[0;31mKeyboardInterrupt\u001b[0m: "
     ]
    }
   ],
   "source": [
    "ticker_data.create_data_array()"
   ]
  },
  {
   "cell_type": "markdown",
   "id": "14040fc5",
   "metadata": {},
   "source": [
    "## Histogram-based Gradient Boosting Classifier"
   ]
  },
  {
   "cell_type": "code",
   "execution_count": 93,
   "id": "bc9cde61",
   "metadata": {
    "ExecuteTime": {
     "end_time": "2022-04-15T10:18:49.728741Z",
     "start_time": "2022-04-15T10:18:31.121142Z"
    },
    "code_folding": [
     0
    ]
   },
   "outputs": [
    {
     "name": "stdout",
     "output_type": "stream",
     "text": [
      "Binning 0.958 GB of training data: 10.347 s\n",
      "Binning 0.106 GB of validation data: 0.068 s\n",
      "Fitting gradient boosted rounds:\n",
      "[1/100] 1 tree, 31 leaves, max depth = 14, train loss: 0.67496, val loss: 0.67593, in 0.132s\n",
      "[2/100] 1 tree, 31 leaves, max depth = 13, train loss: 0.65922, val loss: 0.66072, in 0.130s\n",
      "[3/100] 1 tree, 31 leaves, max depth = 12, train loss: 0.64596, val loss: 0.64784, in 0.133s\n",
      "[4/100] 1 tree, 31 leaves, max depth = 15, train loss: 0.63429, val loss: 0.63620, in 0.131s\n",
      "[5/100] 1 tree, 31 leaves, max depth = 11, train loss: 0.62412, val loss: 0.62635, in 0.132s\n",
      "[6/100] 1 tree, 31 leaves, max depth = 12, train loss: 0.61520, val loss: 0.61746, in 0.137s\n",
      "[7/100] 1 tree, 31 leaves, max depth = 14, train loss: 0.60751, val loss: 0.61000, in 0.134s\n",
      "[8/100] 1 tree, 31 leaves, max depth = 11, train loss: 0.60051, val loss: 0.60331, in 0.133s\n",
      "[9/100] 1 tree, 31 leaves, max depth = 10, train loss: 0.59445, val loss: 0.59745, in 0.130s\n",
      "[10/100] 1 tree, 31 leaves, max depth = 13, train loss: 0.58898, val loss: 0.59208, in 0.128s\n",
      "[11/100] 1 tree, 31 leaves, max depth = 12, train loss: 0.58427, val loss: 0.58736, in 0.122s\n",
      "[12/100] 1 tree, 31 leaves, max depth = 15, train loss: 0.58003, val loss: 0.58292, in 0.128s\n",
      "[13/100] 1 tree, 31 leaves, max depth = 9, train loss: 0.57617, val loss: 0.57912, in 0.129s\n",
      "[14/100] 1 tree, 31 leaves, max depth = 14, train loss: 0.57287, val loss: 0.57598, in 0.131s\n",
      "[15/100] 1 tree, 31 leaves, max depth = 10, train loss: 0.56982, val loss: 0.57327, in 0.138s\n",
      "[16/100] 1 tree, 31 leaves, max depth = 13, train loss: 0.56724, val loss: 0.57064, in 0.129s\n",
      "[17/100] 1 tree, 31 leaves, max depth = 10, train loss: 0.56482, val loss: 0.56830, in 0.131s\n",
      "[18/100] 1 tree, 31 leaves, max depth = 13, train loss: 0.56271, val loss: 0.56601, in 0.129s\n",
      "[19/100] 1 tree, 31 leaves, max depth = 15, train loss: 0.56089, val loss: 0.56423, in 0.130s\n",
      "[20/100] 1 tree, 31 leaves, max depth = 12, train loss: 0.55919, val loss: 0.56275, in 0.133s\n",
      "[21/100] 1 tree, 31 leaves, max depth = 11, train loss: 0.55766, val loss: 0.56138, in 0.131s\n",
      "[22/100] 1 tree, 31 leaves, max depth = 14, train loss: 0.55627, val loss: 0.56005, in 0.128s\n",
      "[23/100] 1 tree, 31 leaves, max depth = 15, train loss: 0.55511, val loss: 0.55901, in 0.129s\n",
      "[24/100] 1 tree, 31 leaves, max depth = 19, train loss: 0.55379, val loss: 0.55780, in 0.128s\n",
      "[25/100] 1 tree, 31 leaves, max depth = 13, train loss: 0.55278, val loss: 0.55690, in 0.124s\n",
      "[26/100] 1 tree, 31 leaves, max depth = 18, train loss: 0.55184, val loss: 0.55612, in 0.120s\n",
      "[27/100] 1 tree, 31 leaves, max depth = 12, train loss: 0.55097, val loss: 0.55547, in 0.115s\n",
      "[28/100] 1 tree, 31 leaves, max depth = 12, train loss: 0.55019, val loss: 0.55493, in 0.115s\n",
      "[29/100] 1 tree, 31 leaves, max depth = 13, train loss: 0.54936, val loss: 0.55418, in 0.117s\n",
      "[30/100] 1 tree, 31 leaves, max depth = 14, train loss: 0.54866, val loss: 0.55366, in 0.113s\n",
      "[31/100] 1 tree, 31 leaves, max depth = 12, train loss: 0.54798, val loss: 0.55321, in 0.123s\n",
      "[32/100] 1 tree, 31 leaves, max depth = 19, train loss: 0.54728, val loss: 0.55263, in 0.120s\n",
      "[33/100] 1 tree, 31 leaves, max depth = 10, train loss: 0.54657, val loss: 0.55217, in 0.118s\n",
      "[34/100] 1 tree, 31 leaves, max depth = 13, train loss: 0.54604, val loss: 0.55198, in 0.100s\n",
      "[35/100] 1 tree, 31 leaves, max depth = 12, train loss: 0.54547, val loss: 0.55187, in 0.103s\n",
      "[36/100] 1 tree, 31 leaves, max depth = 11, train loss: 0.54484, val loss: 0.55148, in 0.094s\n",
      "[37/100] 1 tree, 31 leaves, max depth = 13, train loss: 0.54439, val loss: 0.55147, in 0.076s\n",
      "[38/100] 1 tree, 31 leaves, max depth = 11, train loss: 0.54378, val loss: 0.55114, in 0.113s\n",
      "[39/100] 1 tree, 31 leaves, max depth = 11, train loss: 0.54328, val loss: 0.55118, in 0.079s\n",
      "[40/100] 1 tree, 31 leaves, max depth = 19, train loss: 0.54258, val loss: 0.55064, in 0.122s\n",
      "[41/100] 1 tree, 31 leaves, max depth = 10, train loss: 0.54199, val loss: 0.55049, in 0.114s\n",
      "[42/100] 1 tree, 31 leaves, max depth = 10, train loss: 0.54153, val loss: 0.55046, in 0.065s\n",
      "[43/100] 1 tree, 31 leaves, max depth = 11, train loss: 0.54105, val loss: 0.55020, in 0.081s\n",
      "[44/100] 1 tree, 31 leaves, max depth = 10, train loss: 0.54057, val loss: 0.55017, in 0.064s\n",
      "[45/100] 1 tree, 31 leaves, max depth = 12, train loss: 0.54003, val loss: 0.54999, in 0.090s\n",
      "[46/100] 1 tree, 31 leaves, max depth = 9, train loss: 0.53960, val loss: 0.55005, in 0.056s\n",
      "[47/100] 1 tree, 31 leaves, max depth = 9, train loss: 0.53910, val loss: 0.55005, in 0.083s\n",
      "[48/100] 1 tree, 31 leaves, max depth = 13, train loss: 0.53861, val loss: 0.55007, in 0.087s\n",
      "[49/100] 1 tree, 31 leaves, max depth = 14, train loss: 0.53810, val loss: 0.55003, in 0.076s\n",
      "[50/100] 1 tree, 31 leaves, max depth = 12, train loss: 0.53769, val loss: 0.55005, in 0.055s\n",
      "[51/100] 1 tree, 31 leaves, max depth = 10, train loss: 0.53729, val loss: 0.55016, in 0.054s\n",
      "[52/100] 1 tree, 31 leaves, max depth = 9, train loss: 0.53685, val loss: 0.55015, in 0.061s\n",
      "[53/100] 1 tree, 31 leaves, max depth = 9, train loss: 0.53639, val loss: 0.54988, in 0.084s\n",
      "[54/100] 1 tree, 31 leaves, max depth = 15, train loss: 0.53597, val loss: 0.54979, in 0.063s\n",
      "[55/100] 1 tree, 31 leaves, max depth = 16, train loss: 0.53555, val loss: 0.54969, in 0.052s\n",
      "[56/100] 1 tree, 31 leaves, max depth = 11, train loss: 0.53509, val loss: 0.54974, in 0.065s\n",
      "[57/100] 1 tree, 31 leaves, max depth = 9, train loss: 0.53468, val loss: 0.54980, in 0.061s\n",
      "[58/100] 1 tree, 31 leaves, max depth = 13, train loss: 0.53415, val loss: 0.54957, in 0.068s\n",
      "[59/100] 1 tree, 31 leaves, max depth = 14, train loss: 0.53369, val loss: 0.54962, in 0.061s\n",
      "[60/100] 1 tree, 31 leaves, max depth = 10, train loss: 0.53328, val loss: 0.54971, in 0.057s\n",
      "[61/100] 1 tree, 31 leaves, max depth = 8, train loss: 0.53281, val loss: 0.54968, in 0.074s\n",
      "[62/100] 1 tree, 31 leaves, max depth = 9, train loss: 0.53238, val loss: 0.54959, in 0.061s\n",
      "[63/100] 1 tree, 31 leaves, max depth = 9, train loss: 0.53204, val loss: 0.54960, in 0.047s\n",
      "[64/100] 1 tree, 31 leaves, max depth = 12, train loss: 0.53158, val loss: 0.54958, in 0.084s\n",
      "[65/100] 1 tree, 31 leaves, max depth = 11, train loss: 0.53109, val loss: 0.54953, in 0.085s\n",
      "[66/100] 1 tree, 31 leaves, max depth = 16, train loss: 0.53067, val loss: 0.54956, in 0.058s\n",
      "[67/100] 1 tree, 31 leaves, max depth = 13, train loss: 0.53020, val loss: 0.54955, in 0.069s\n",
      "[68/100] 1 tree, 31 leaves, max depth = 11, train loss: 0.52989, val loss: 0.54959, in 0.046s\n",
      "[69/100] 1 tree, 31 leaves, max depth = 9, train loss: 0.52947, val loss: 0.54965, in 0.060s\n",
      "[70/100] 1 tree, 31 leaves, max depth = 9, train loss: 0.52896, val loss: 0.54940, in 0.074s\n",
      "[71/100] 1 tree, 31 leaves, max depth = 11, train loss: 0.52851, val loss: 0.54939, in 0.066s\n",
      "[72/100] 1 tree, 31 leaves, max depth = 14, train loss: 0.52806, val loss: 0.54940, in 0.068s\n",
      "[73/100] 1 tree, 31 leaves, max depth = 13, train loss: 0.52758, val loss: 0.54953, in 0.076s\n",
      "[74/100] 1 tree, 31 leaves, max depth = 12, train loss: 0.52709, val loss: 0.54954, in 0.096s\n",
      "[75/100] 1 tree, 31 leaves, max depth = 11, train loss: 0.52668, val loss: 0.54958, in 0.058s\n",
      "[76/100] 1 tree, 31 leaves, max depth = 15, train loss: 0.52628, val loss: 0.54958, in 0.060s\n",
      "[77/100] 1 tree, 31 leaves, max depth = 12, train loss: 0.52587, val loss: 0.54959, in 0.064s\n",
      "[78/100] 1 tree, 31 leaves, max depth = 11, train loss: 0.52536, val loss: 0.54970, in 0.100s\n",
      "[79/100] 1 tree, 31 leaves, max depth = 10, train loss: 0.52489, val loss: 0.54963, in 0.080s\n",
      "[80/100] 1 tree, 31 leaves, max depth = 16, train loss: 0.52439, val loss: 0.54972, in 0.087s\n",
      "[81/100] 1 tree, 31 leaves, max depth = 9, train loss: 0.52391, val loss: 0.54966, in 0.096s\n",
      "Fit 81 trees in 18.600 s, (2511 total leaves)\n",
      "Time spent computing histograms: 5.204s\n",
      "Time spent finding best splits:  0.797s\n",
      "Time spent applying splits:      0.111s\n",
      "Time spent predicting:           0.012s\n"
     ]
    },
    {
     "data": {
      "text/plain": [
       "HistGradientBoostingClassifier(verbose=True)"
      ]
     },
     "execution_count": 93,
     "metadata": {},
     "output_type": "execute_result"
    }
   ],
   "source": [
    "# Code \n",
    "from sklearn.ensemble import HistGradientBoostingClassifier\n",
    "\n",
    "model = HistGradientBoostingClassifier(\n",
    "    verbose=True, #Print progress info during training\n",
    ")\n",
    "model.fit(X_train, Y_train)"
   ]
  },
  {
   "cell_type": "code",
   "execution_count": 97,
   "id": "644e4b7c",
   "metadata": {
    "ExecuteTime": {
     "end_time": "2022-04-15T10:21:38.459345Z",
     "start_time": "2022-04-15T10:21:37.828990Z"
    }
   },
   "outputs": [
    {
     "name": "stdout",
     "output_type": "stream",
     "text": [
      "              precision    recall  f1-score   support\n",
      "\n",
      "       False       0.74      0.73      0.74     49289\n",
      "        True       0.73      0.74      0.74     48907\n",
      "\n",
      "    accuracy                           0.74     98196\n",
      "   macro avg       0.74      0.74      0.74     98196\n",
      "weighted avg       0.74      0.74      0.74     98196\n",
      "\n"
     ]
    }
   ],
   "source": [
    "print(classification_report(Y_train, model.predict(X_train)))"
   ]
  },
  {
   "cell_type": "code",
   "execution_count": 98,
   "id": "eebb072e",
   "metadata": {
    "ExecuteTime": {
     "end_time": "2022-04-15T10:21:39.131791Z",
     "start_time": "2022-04-15T10:21:39.108896Z"
    }
   },
   "outputs": [
    {
     "name": "stdout",
     "output_type": "stream",
     "text": [
      "              precision    recall  f1-score   support\n",
      "\n",
      "       False       0.55      0.33      0.41      2868\n",
      "        True       0.44      0.65      0.53      2301\n",
      "\n",
      "    accuracy                           0.48      5169\n",
      "   macro avg       0.49      0.49      0.47      5169\n",
      "weighted avg       0.50      0.48      0.46      5169\n",
      "\n"
     ]
    }
   ],
   "source": [
    "print(classification_report(Y_test, model.predict(X_test)))"
   ]
  }
 ],
 "metadata": {
  "kernelspec": {
   "display_name": "Python 3 (ipykernel)",
   "language": "python",
   "name": "python3"
  },
  "language_info": {
   "codemirror_mode": {
    "name": "ipython",
    "version": 3
   },
   "file_extension": ".py",
   "mimetype": "text/x-python",
   "name": "python",
   "nbconvert_exporter": "python",
   "pygments_lexer": "ipython3",
   "version": "3.9.7"
  },
  "toc": {
   "base_numbering": 1,
   "nav_menu": {},
   "number_sections": false,
   "sideBar": true,
   "skip_h1_title": false,
   "title_cell": "Table of Contents",
   "title_sidebar": "Contents",
   "toc_cell": true,
   "toc_position": {},
   "toc_section_display": true,
   "toc_window_display": true
  }
 },
 "nbformat": 4,
 "nbformat_minor": 5
}
