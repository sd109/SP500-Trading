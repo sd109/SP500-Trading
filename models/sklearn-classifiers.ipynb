{
 "cells": [
  {
   "cell_type": "markdown",
   "id": "23cf4a80",
   "metadata": {
    "toc": true
   },
   "source": [
    "<h1>Table of Contents<span class=\"tocSkip\"></span></h1>\n",
    "<div class=\"toc\"><ul class=\"toc-item\"><li><span><a href=\"#Data-prep\" data-toc-modified-id=\"Data-prep-1\">Data prep</a></span></li><li><span><a href=\"#Sklearn-classifiers\" data-toc-modified-id=\"Sklearn-classifiers-2\">Sklearn classifiers</a></span><ul class=\"toc-item\"><li><span><a href=\"#GradientBoostingClassifier\" data-toc-modified-id=\"GradientBoostingClassifier-2.1\">GradientBoostingClassifier</a></span></li><li><span><a href=\"#HistGradientBoostingClassifier\" data-toc-modified-id=\"HistGradientBoostingClassifier-2.2\">HistGradientBoostingClassifier</a></span></li></ul></li><li><span><a href=\"#XGBoost-classifier\" data-toc-modified-id=\"XGBoost-classifier-3\">XGBoost classifier</a></span></li></ul></div>"
   ]
  },
  {
   "cell_type": "code",
   "execution_count": 9,
   "id": "f386530a",
   "metadata": {
    "ExecuteTime": {
     "end_time": "2022-04-15T09:48:18.832928Z",
     "start_time": "2022-04-15T09:48:18.830287Z"
    },
    "code_folding": [
     0
    ]
   },
   "outputs": [],
   "source": [
    "# Imports \n",
    "\n",
    "import datetime as dt\n",
    "import numpy as np\n",
    "import matplotlib.pyplot as plt\n",
    "from sklearn.model_selection import train_test_split\n",
    "from sklearn.metrics import classification_report\n",
    "from tqdm import tqdm\n",
    "\n",
    "import sys\n",
    "sys.path.append(\"/home/scottd/Dropbox/Other-Programming/SP500-Trading/data_wrangling/\")\n",
    "from data_wrangling import TickerData"
   ]
  },
  {
   "cell_type": "markdown",
   "id": "3bcd5c16",
   "metadata": {},
   "source": [
    "# Data prep"
   ]
  },
  {
   "cell_type": "code",
   "execution_count": 2,
   "id": "bbaf88a8",
   "metadata": {
    "ExecuteTime": {
     "end_time": "2022-04-15T09:45:23.981586Z",
     "start_time": "2022-04-15T09:45:22.727530Z"
    },
    "code_folding": [
     0
    ]
   },
   "outputs": [
    {
     "name": "stdout",
     "output_type": "stream",
     "text": [
      "Class value: tensor(False) \t Instance count: tensor(52157)\n",
      "Class value: tensor(True) \t Instance count: tensor(51208)\n"
     ]
    }
   ],
   "source": [
    "# Data loading \n",
    "ticker_data = TickerData(\"/home/scottd/Dropbox/Other-Programming/SP500-Trading/data/\")\n",
    "ds = ticker_data.create_torch_dataset(t0=dt.time(19, 0), t1=dt.time(20, 55), N_classes=2)"
   ]
  },
  {
   "cell_type": "markdown",
   "id": "e84f0d68",
   "metadata": {},
   "source": [
    "Since sklearn doesn't need torch datasets we convert everything to plain old numpy arrays then split into training and testing sets:"
   ]
  },
  {
   "cell_type": "code",
   "execution_count": 65,
   "id": "3f6d7e1a",
   "metadata": {
    "ExecuteTime": {
     "end_time": "2022-04-15T10:04:46.482018Z",
     "start_time": "2022-04-15T10:04:45.482890Z"
    },
    "code_folding": [
     0
    ]
   },
   "outputs": [
    {
     "name": "stderr",
     "output_type": "stream",
     "text": [
      "100%|███████████████████████████████████████████████████████████████████████| 103365/103365 [00:00<00:00, 130923.37it/s]\n"
     ]
    }
   ],
   "source": [
    "# Code \n",
    "X = []\n",
    "Y = []\n",
    "ratios = []\n",
    "for (x, y, r) in tqdm(ds):\n",
    "    X.append(x.numpy().flatten()) #sklearn classifiers only accept 1D input so need to flatten here\n",
    "    Y.append(y.item())\n",
    "    ratios.append(r.item())\n",
    "X, Y, ratios = map(np.array, [X, Y, ratios])\n",
    "    \n",
    "X_train, X_test, Y_train, Y_test, R_train, R_test = train_test_split(X, Y, ratios, shuffle=False, test_size=0.05)"
   ]
  },
  {
   "cell_type": "markdown",
   "id": "e5ae8bab",
   "metadata": {},
   "source": [
    "Check the distribution of profit ratios in train/test sets:"
   ]
  },
  {
   "cell_type": "code",
   "execution_count": 66,
   "id": "13509db8",
   "metadata": {
    "ExecuteTime": {
     "end_time": "2022-04-15T10:04:47.484812Z",
     "start_time": "2022-04-15T10:04:47.235168Z"
    },
    "code_folding": [
     0
    ]
   },
   "outputs": [
    {
     "data": {
      "image/png": "[encoded data removed]",
      "text/plain": [
       "<Figure size 576x288 with 1 Axes>"
      ]
     },
     "metadata": {
      "needs_background": "light"
     },
     "output_type": "display_data"
    }
   ],
   "source": [
    "# Code \n",
    "fig, ax = plt.subplots(figsize=(8, 4))\n",
    "\n",
    "kwargs = {\"bins\":100, \"histtype\":\"bar\", \"alpha\":0.25, \"density\":True}\n",
    "ax.hist(R_train, color=\"b\", label=\"Training set\", **kwargs)\n",
    "ax.hist(R_test, color=\"r\", label=\"Test set\", **kwargs)\n",
    "ax.legend()\n",
    "\n",
    "plt.tight_layout()"
   ]
  },
  {
   "cell_type": "markdown",
   "id": "e8389bf3",
   "metadata": {},
   "source": [
    "# Sklearn classifiers"
   ]
  },
  {
   "cell_type": "markdown",
   "id": "f4449c6f",
   "metadata": {},
   "source": [
    "## GradientBoostingClassifier"
   ]
  },
  {
   "cell_type": "code",
   "execution_count": 74,
   "id": "e8a554df",
   "metadata": {
    "ExecuteTime": {
     "end_time": "2022-04-15T10:11:31.022222Z",
     "start_time": "2022-04-15T10:08:17.649583Z"
    },
    "code_folding": [
     0
    ]
   },
   "outputs": [
    {
     "name": "stdout",
     "output_type": "stream",
     "text": [
      "      Iter       Train Loss   Remaining Time \n",
      "         1           1.3768            2.92m\n",
      "         2           1.3696            2.60m\n",
      "         3           1.3596            2.26m\n",
      "         4           1.3494            1.93m\n",
      "         5           1.3424            1.61m\n",
      "         6           1.3349            1.29m\n",
      "         7           1.3260           57.87s\n",
      "         8           1.3207           38.65s\n",
      "         9           1.3137           19.32s\n",
      "        10           1.3080            0.00s\n"
     ]
    },
    {
     "data": {
      "text/plain": [
       "GradientBoostingClassifier(n_estimators=10, verbose=True)"
      ]
     },
     "execution_count": 74,
     "metadata": {},
     "output_type": "execute_result"
    }
   ],
   "source": [
    "# Code \n",
    "from sklearn.ensemble import GradientBoostingClassifier\n",
    "\n",
    "model = GradientBoostingClassifier(\n",
    "    n_estimators=10,\n",
    "    verbose=True, #Print progress info during training\n",
    ")\n",
    "model.fit(X_train, Y_train)"
   ]
  },
  {
   "cell_type": "code",
   "execution_count": 78,
   "id": "dbf2afce",
   "metadata": {
    "ExecuteTime": {
     "end_time": "2022-04-15T10:11:42.270231Z",
     "start_time": "2022-04-15T10:11:42.078490Z"
    }
   },
   "outputs": [
    {
     "name": "stdout",
     "output_type": "stream",
     "text": [
      "              precision    recall  f1-score   support\n",
      "\n",
      "       False       0.65      0.76      0.70     49289\n",
      "        True       0.71      0.58      0.64     48907\n",
      "\n",
      "    accuracy                           0.67     98196\n",
      "   macro avg       0.68      0.67      0.67     98196\n",
      "weighted avg       0.68      0.67      0.67     98196\n",
      "\n"
     ]
    }
   ],
   "source": [
    "Y_train_pred = model.predict(X_train)\n",
    "print(classification_report(Y_train, Y_train_pred))"
   ]
  },
  {
   "cell_type": "code",
   "execution_count": 79,
   "id": "84a2df6d",
   "metadata": {
    "ExecuteTime": {
     "end_time": "2022-04-15T10:12:05.435889Z",
     "start_time": "2022-04-15T10:12:05.422647Z"
    }
   },
   "outputs": [
    {
     "name": "stdout",
     "output_type": "stream",
     "text": [
      "              precision    recall  f1-score   support\n",
      "\n",
      "       False       0.56      0.24      0.33      2868\n",
      "        True       0.45      0.77      0.56      2301\n",
      "\n",
      "    accuracy                           0.47      5169\n",
      "   macro avg       0.50      0.50      0.45      5169\n",
      "weighted avg       0.51      0.47      0.44      5169\n",
      "\n"
     ]
    }
   ],
   "source": [
    "Y_test_pred = model.predict(X_test)\n",
    "print(classification_report(Y_test, Y_test_pred))"
   ]
  },
  {
   "cell_type": "markdown",
   "id": "14040fc5",
   "metadata": {},
   "source": [
    "## HistGradientBoostingClassifier"
   ]
  },
  {
   "cell_type": "code",
   "execution_count": 93,
   "id": "bc9cde61",
   "metadata": {
    "ExecuteTime": {
     "end_time": "2022-04-15T10:18:49.728741Z",
     "start_time": "2022-04-15T10:18:31.121142Z"
    },
    "code_folding": []
   },
   "outputs": [
    {
     "name": "stdout",
     "output_type": "stream",
     "text": [
      "Binning 0.958 GB of training data: 10.347 s\n",
      "Binning 0.106 GB of validation data: 0.068 s\n",
      "Fitting gradient boosted rounds:\n",
      "[1/100] 1 tree, 31 leaves, max depth = 14, train loss: 0.67496, val loss: 0.67593, in 0.132s\n",
      "[2/100] 1 tree, 31 leaves, max depth = 13, train loss: 0.65922, val loss: 0.66072, in 0.130s\n",
      "[3/100] 1 tree, 31 leaves, max depth = 12, train loss: 0.64596, val loss: 0.64784, in 0.133s\n",
      "[4/100] 1 tree, 31 leaves, max depth = 15, train loss: 0.63429, val loss: 0.63620, in 0.131s\n",
      "[5/100] 1 tree, 31 leaves, max depth = 11, train loss: 0.62412, val loss: 0.62635, in 0.132s\n",
      "[6/100] 1 tree, 31 leaves, max depth = 12, train loss: 0.61520, val loss: 0.61746, in 0.137s\n",
      "[7/100] 1 tree, 31 leaves, max depth = 14, train loss: 0.60751, val loss: 0.61000, in 0.134s\n",
      "[8/100] 1 tree, 31 leaves, max depth = 11, train loss: 0.60051, val loss: 0.60331, in 0.133s\n",
      "[9/100] 1 tree, 31 leaves, max depth = 10, train loss: 0.59445, val loss: 0.59745, in 0.130s\n",
      "[10/100] 1 tree, 31 leaves, max depth = 13, train loss: 0.58898, val loss: 0.59208, in 0.128s\n",
      "[11/100] 1 tree, 31 leaves, max depth = 12, train loss: 0.58427, val loss: 0.58736, in 0.122s\n",
      "[12/100] 1 tree, 31 leaves, max depth = 15, train loss: 0.58003, val loss: 0.58292, in 0.128s\n",
      "[13/100] 1 tree, 31 leaves, max depth = 9, train loss: 0.57617, val loss: 0.57912, in 0.129s\n",
      "[14/100] 1 tree, 31 leaves, max depth = 14, train loss: 0.57287, val loss: 0.57598, in 0.131s\n",
      "[15/100] 1 tree, 31 leaves, max depth = 10, train loss: 0.56982, val loss: 0.57327, in 0.138s\n",
      "[16/100] 1 tree, 31 leaves, max depth = 13, train loss: 0.56724, val loss: 0.57064, in 0.129s\n",
      "[17/100] 1 tree, 31 leaves, max depth = 10, train loss: 0.56482, val loss: 0.56830, in 0.131s\n",
      "[18/100] 1 tree, 31 leaves, max depth = 13, train loss: 0.56271, val loss: 0.56601, in 0.129s\n",
      "[19/100] 1 tree, 31 leaves, max depth = 15, train loss: 0.56089, val loss: 0.56423, in 0.130s\n",
      "[20/100] 1 tree, 31 leaves, max depth = 12, train loss: 0.55919, val loss: 0.56275, in 0.133s\n",
      "[21/100] 1 tree, 31 leaves, max depth = 11, train loss: 0.55766, val loss: 0.56138, in 0.131s\n",
      "[22/100] 1 tree, 31 leaves, max depth = 14, train loss: 0.55627, val loss: 0.56005, in 0.128s\n",
      "[23/100] 1 tree, 31 leaves, max depth = 15, train loss: 0.55511, val loss: 0.55901, in 0.129s\n",
      "[24/100] 1 tree, 31 leaves, max depth = 19, train loss: 0.55379, val loss: 0.55780, in 0.128s\n",
      "[25/100] 1 tree, 31 leaves, max depth = 13, train loss: 0.55278, val loss: 0.55690, in 0.124s\n",
      "[26/100] 1 tree, 31 leaves, max depth = 18, train loss: 0.55184, val loss: 0.55612, in 0.120s\n",
      "[27/100] 1 tree, 31 leaves, max depth = 12, train loss: 0.55097, val loss: 0.55547, in 0.115s\n",
      "[28/100] 1 tree, 31 leaves, max depth = 12, train loss: 0.55019, val loss: 0.55493, in 0.115s\n",
      "[29/100] 1 tree, 31 leaves, max depth = 13, train loss: 0.54936, val loss: 0.55418, in 0.117s\n",
      "[30/100] 1 tree, 31 leaves, max depth = 14, train loss: 0.54866, val loss: 0.55366, in 0.113s\n",
      "[31/100] 1 tree, 31 leaves, max depth = 12, train loss: 0.54798, val loss: 0.55321, in 0.123s\n",
      "[32/100] 1 tree, 31 leaves, max depth = 19, train loss: 0.54728, val loss: 0.55263, in 0.120s\n",
      "[33/100] 1 tree, 31 leaves, max depth = 10, train loss: 0.54657, val loss: 0.55217, in 0.118s\n",
      "[34/100] 1 tree, 31 leaves, max depth = 13, train loss: 0.54604, val loss: 0.55198, in 0.100s\n",
      "[35/100] 1 tree, 31 leaves, max depth = 12, train loss: 0.54547, val loss: 0.55187, in 0.103s\n",
      "[36/100] 1 tree, 31 leaves, max depth = 11, train loss: 0.54484, val loss: 0.55148, in 0.094s\n",
      "[37/100] 1 tree, 31 leaves, max depth = 13, train loss: 0.54439, val loss: 0.55147, in 0.076s\n",
      "[38/100] 1 tree, 31 leaves, max depth = 11, train loss: 0.54378, val loss: 0.55114, in 0.113s\n",
      "[39/100] 1 tree, 31 leaves, max depth = 11, train loss: 0.54328, val loss: 0.55118, in 0.079s\n",
      "[40/100] 1 tree, 31 leaves, max depth = 19, train loss: 0.54258, val loss: 0.55064, in 0.122s\n",
      "[41/100] 1 tree, 31 leaves, max depth = 10, train loss: 0.54199, val loss: 0.55049, in 0.114s\n",
      "[42/100] 1 tree, 31 leaves, max depth = 10, train loss: 0.54153, val loss: 0.55046, in 0.065s\n",
      "[43/100] 1 tree, 31 leaves, max depth = 11, train loss: 0.54105, val loss: 0.55020, in 0.081s\n",
      "[44/100] 1 tree, 31 leaves, max depth = 10, train loss: 0.54057, val loss: 0.55017, in 0.064s\n",
      "[45/100] 1 tree, 31 leaves, max depth = 12, train loss: 0.54003, val loss: 0.54999, in 0.090s\n",
      "[46/100] 1 tree, 31 leaves, max depth = 9, train loss: 0.53960, val loss: 0.55005, in 0.056s\n",
      "[47/100] 1 tree, 31 leaves, max depth = 9, train loss: 0.53910, val loss: 0.55005, in 0.083s\n",
      "[48/100] 1 tree, 31 leaves, max depth = 13, train loss: 0.53861, val loss: 0.55007, in 0.087s\n",
      "[49/100] 1 tree, 31 leaves, max depth = 14, train loss: 0.53810, val loss: 0.55003, in 0.076s\n",
      "[50/100] 1 tree, 31 leaves, max depth = 12, train loss: 0.53769, val loss: 0.55005, in 0.055s\n",
      "[51/100] 1 tree, 31 leaves, max depth = 10, train loss: 0.53729, val loss: 0.55016, in 0.054s\n",
      "[52/100] 1 tree, 31 leaves, max depth = 9, train loss: 0.53685, val loss: 0.55015, in 0.061s\n",
      "[53/100] 1 tree, 31 leaves, max depth = 9, train loss: 0.53639, val loss: 0.54988, in 0.084s\n",
      "[54/100] 1 tree, 31 leaves, max depth = 15, train loss: 0.53597, val loss: 0.54979, in 0.063s\n",
      "[55/100] 1 tree, 31 leaves, max depth = 16, train loss: 0.53555, val loss: 0.54969, in 0.052s\n",
      "[56/100] 1 tree, 31 leaves, max depth = 11, train loss: 0.53509, val loss: 0.54974, in 0.065s\n",
      "[57/100] 1 tree, 31 leaves, max depth = 9, train loss: 0.53468, val loss: 0.54980, in 0.061s\n",
      "[58/100] 1 tree, 31 leaves, max depth = 13, train loss: 0.53415, val loss: 0.54957, in 0.068s\n",
      "[59/100] 1 tree, 31 leaves, max depth = 14, train loss: 0.53369, val loss: 0.54962, in 0.061s\n",
      "[60/100] 1 tree, 31 leaves, max depth = 10, train loss: 0.53328, val loss: 0.54971, in 0.057s\n",
      "[61/100] 1 tree, 31 leaves, max depth = 8, train loss: 0.53281, val loss: 0.54968, in 0.074s\n",
      "[62/100] 1 tree, 31 leaves, max depth = 9, train loss: 0.53238, val loss: 0.54959, in 0.061s\n",
      "[63/100] 1 tree, 31 leaves, max depth = 9, train loss: 0.53204, val loss: 0.54960, in 0.047s\n",
      "[64/100] 1 tree, 31 leaves, max depth = 12, train loss: 0.53158, val loss: 0.54958, in 0.084s\n",
      "[65/100] 1 tree, 31 leaves, max depth = 11, train loss: 0.53109, val loss: 0.54953, in 0.085s\n",
      "[66/100] 1 tree, 31 leaves, max depth = 16, train loss: 0.53067, val loss: 0.54956, in 0.058s\n",
      "[67/100] 1 tree, 31 leaves, max depth = 13, train loss: 0.53020, val loss: 0.54955, in 0.069s\n",
      "[68/100] 1 tree, 31 leaves, max depth = 11, train loss: 0.52989, val loss: 0.54959, in 0.046s\n",
      "[69/100] 1 tree, 31 leaves, max depth = 9, train loss: 0.52947, val loss: 0.54965, in 0.060s\n",
      "[70/100] 1 tree, 31 leaves, max depth = 9, train loss: 0.52896, val loss: 0.54940, in 0.074s\n",
      "[71/100] 1 tree, 31 leaves, max depth = 11, train loss: 0.52851, val loss: 0.54939, in 0.066s\n",
      "[72/100] 1 tree, 31 leaves, max depth = 14, train loss: 0.52806, val loss: 0.54940, in 0.068s\n",
      "[73/100] 1 tree, 31 leaves, max depth = 13, train loss: 0.52758, val loss: 0.54953, in 0.076s\n",
      "[74/100] 1 tree, 31 leaves, max depth = 12, train loss: 0.52709, val loss: 0.54954, in 0.096s\n",
      "[75/100] 1 tree, 31 leaves, max depth = 11, train loss: 0.52668, val loss: 0.54958, in 0.058s\n",
      "[76/100] 1 tree, 31 leaves, max depth = 15, train loss: 0.52628, val loss: 0.54958, in 0.060s\n",
      "[77/100] 1 tree, 31 leaves, max depth = 12, train loss: 0.52587, val loss: 0.54959, in 0.064s\n",
      "[78/100] 1 tree, 31 leaves, max depth = 11, train loss: 0.52536, val loss: 0.54970, in 0.100s\n",
      "[79/100] 1 tree, 31 leaves, max depth = 10, train loss: 0.52489, val loss: 0.54963, in 0.080s\n",
      "[80/100] 1 tree, 31 leaves, max depth = 16, train loss: 0.52439, val loss: 0.54972, in 0.087s\n",
      "[81/100] 1 tree, 31 leaves, max depth = 9, train loss: 0.52391, val loss: 0.54966, in 0.096s\n",
      "Fit 81 trees in 18.600 s, (2511 total leaves)\n",
      "Time spent computing histograms: 5.204s\n",
      "Time spent finding best splits:  0.797s\n",
      "Time spent applying splits:      0.111s\n",
      "Time spent predicting:           0.012s\n"
     ]
    },
    {
     "data": {
      "text/plain": [
       "HistGradientBoostingClassifier(verbose=True)"
      ]
     },
     "execution_count": 93,
     "metadata": {},
     "output_type": "execute_result"
    }
   ],
   "source": [
    "# Code \n",
    "from sklearn.ensemble import HistGradientBoostingClassifier\n",
    "\n",
    "model = HistGradientBoostingClassifier(\n",
    "    verbose=True, #Print progress info during training\n",
    ")\n",
    "model.fit(X_train, Y_train)"
   ]
  },
  {
   "cell_type": "code",
   "execution_count": 97,
   "id": "644e4b7c",
   "metadata": {
    "ExecuteTime": {
     "end_time": "2022-04-15T10:21:38.459345Z",
     "start_time": "2022-04-15T10:21:37.828990Z"
    }
   },
   "outputs": [
    {
     "name": "stdout",
     "output_type": "stream",
     "text": [
      "              precision    recall  f1-score   support\n",
      "\n",
      "       False       0.74      0.73      0.74     49289\n",
      "        True       0.73      0.74      0.74     48907\n",
      "\n",
      "    accuracy                           0.74     98196\n",
      "   macro avg       0.74      0.74      0.74     98196\n",
      "weighted avg       0.74      0.74      0.74     98196\n",
      "\n"
     ]
    }
   ],
   "source": [
    "print(classification_report(Y_train, model.predict(X_train)))"
   ]
  },
  {
   "cell_type": "code",
   "execution_count": 98,
   "id": "eebb072e",
   "metadata": {
    "ExecuteTime": {
     "end_time": "2022-04-15T10:21:39.131791Z",
     "start_time": "2022-04-15T10:21:39.108896Z"
    }
   },
   "outputs": [
    {
     "name": "stdout",
     "output_type": "stream",
     "text": [
      "              precision    recall  f1-score   support\n",
      "\n",
      "       False       0.55      0.33      0.41      2868\n",
      "        True       0.44      0.65      0.53      2301\n",
      "\n",
      "    accuracy                           0.48      5169\n",
      "   macro avg       0.49      0.49      0.47      5169\n",
      "weighted avg       0.50      0.48      0.46      5169\n",
      "\n"
     ]
    }
   ],
   "source": [
    "print(classification_report(Y_test, model.predict(X_test)))"
   ]
  },
  {
   "cell_type": "markdown",
   "id": "dfb17781",
   "metadata": {},
   "source": [
    "# XGBoost classifier"
   ]
  },
  {
   "cell_type": "code",
   "execution_count": 121,
   "id": "eb453e47",
   "metadata": {
    "ExecuteTime": {
     "end_time": "2022-04-15T10:34:44.967050Z",
     "start_time": "2022-04-15T10:34:44.962804Z"
    }
   },
   "outputs": [
    {
     "data": {
      "text/plain": [
       "array([0, 1, 1, ..., 0, 0, 1], dtype=int16)"
      ]
     },
     "execution_count": 121,
     "metadata": {},
     "output_type": "execute_result"
    }
   ],
   "source": []
  },
  {
   "cell_type": "code",
   "execution_count": 122,
   "id": "6a32cec3",
   "metadata": {
    "ExecuteTime": {
     "end_time": "2022-04-15T10:36:20.779115Z",
     "start_time": "2022-04-15T10:35:08.755284Z"
    }
   },
   "outputs": [
    {
     "name": "stderr",
     "output_type": "stream",
     "text": [
      "/home/scottd/anaconda3/envs/ml-env-pytorch/lib/python3.9/site-packages/xgboost/sklearn.py:1224: UserWarning: The use of label encoder in XGBClassifier is deprecated and will be removed in a future release. To remove this warning, do the following: 1) Pass option use_label_encoder=False when constructing XGBClassifier object; and 2) Encode your labels (y) as integers starting with 0, i.e. 0, 1, 2, ..., [num_class - 1].\n",
      "  warnings.warn(label_encoder_deprecation_msg, UserWarning)\n"
     ]
    },
    {
     "name": "stdout",
     "output_type": "stream",
     "text": [
      "[11:35:11] INFO: ../src/tree/updater_prune.cc:101: tree pruning end, 116 extra nodes, 0 pruned nodes, max_depth=6\n",
      "[11:35:11] WARNING: ../src/learner.cc:1115: Starting in XGBoost 1.3.0, the default evaluation metric used with the objective 'binary:logistic' was changed from 'error' to 'logloss'. Explicitly set eval_metric if you'd like to restore the old behavior.\n",
      "[11:35:11] INFO: ../src/tree/updater_prune.cc:101: tree pruning end, 122 extra nodes, 0 pruned nodes, max_depth=6\n",
      "[11:35:12] INFO: ../src/tree/updater_prune.cc:101: tree pruning end, 118 extra nodes, 0 pruned nodes, max_depth=6\n",
      "[11:35:13] INFO: ../src/tree/updater_prune.cc:101: tree pruning end, 122 extra nodes, 0 pruned nodes, max_depth=6\n",
      "[11:35:14] INFO: ../src/tree/updater_prune.cc:101: tree pruning end, 106 extra nodes, 0 pruned nodes, max_depth=6\n",
      "[11:35:15] INFO: ../src/tree/updater_prune.cc:101: tree pruning end, 118 extra nodes, 0 pruned nodes, max_depth=6\n",
      "[11:35:15] INFO: ../src/tree/updater_prune.cc:101: tree pruning end, 102 extra nodes, 0 pruned nodes, max_depth=6\n",
      "[11:35:16] INFO: ../src/tree/updater_prune.cc:101: tree pruning end, 102 extra nodes, 0 pruned nodes, max_depth=6\n",
      "[11:35:17] INFO: ../src/tree/updater_prune.cc:101: tree pruning end, 102 extra nodes, 0 pruned nodes, max_depth=6\n",
      "[11:35:18] INFO: ../src/tree/updater_prune.cc:101: tree pruning end, 126 extra nodes, 0 pruned nodes, max_depth=6\n",
      "[11:35:18] INFO: ../src/tree/updater_prune.cc:101: tree pruning end, 116 extra nodes, 0 pruned nodes, max_depth=6\n",
      "[11:35:19] INFO: ../src/tree/updater_prune.cc:101: tree pruning end, 126 extra nodes, 0 pruned nodes, max_depth=6\n",
      "[11:35:20] INFO: ../src/tree/updater_prune.cc:101: tree pruning end, 118 extra nodes, 0 pruned nodes, max_depth=6\n",
      "[11:35:21] INFO: ../src/tree/updater_prune.cc:101: tree pruning end, 64 extra nodes, 0 pruned nodes, max_depth=6\n",
      "[11:35:21] INFO: ../src/tree/updater_prune.cc:101: tree pruning end, 120 extra nodes, 0 pruned nodes, max_depth=6\n",
      "[11:35:22] INFO: ../src/tree/updater_prune.cc:101: tree pruning end, 124 extra nodes, 0 pruned nodes, max_depth=6\n",
      "[11:35:23] INFO: ../src/tree/updater_prune.cc:101: tree pruning end, 94 extra nodes, 0 pruned nodes, max_depth=6\n",
      "[11:35:24] INFO: ../src/tree/updater_prune.cc:101: tree pruning end, 118 extra nodes, 0 pruned nodes, max_depth=6\n",
      "[11:35:24] INFO: ../src/tree/updater_prune.cc:101: tree pruning end, 106 extra nodes, 0 pruned nodes, max_depth=6\n",
      "[11:35:25] INFO: ../src/tree/updater_prune.cc:101: tree pruning end, 78 extra nodes, 0 pruned nodes, max_depth=6\n",
      "[11:35:26] INFO: ../src/tree/updater_prune.cc:101: tree pruning end, 86 extra nodes, 0 pruned nodes, max_depth=6\n",
      "[11:35:26] INFO: ../src/tree/updater_prune.cc:101: tree pruning end, 76 extra nodes, 0 pruned nodes, max_depth=6\n",
      "[11:35:27] INFO: ../src/tree/updater_prune.cc:101: tree pruning end, 94 extra nodes, 0 pruned nodes, max_depth=6\n",
      "[11:35:28] INFO: ../src/tree/updater_prune.cc:101: tree pruning end, 44 extra nodes, 0 pruned nodes, max_depth=6\n",
      "[11:35:28] INFO: ../src/tree/updater_prune.cc:101: tree pruning end, 68 extra nodes, 0 pruned nodes, max_depth=6\n",
      "[11:35:29] INFO: ../src/tree/updater_prune.cc:101: tree pruning end, 98 extra nodes, 0 pruned nodes, max_depth=6\n",
      "[11:35:30] INFO: ../src/tree/updater_prune.cc:101: tree pruning end, 120 extra nodes, 0 pruned nodes, max_depth=6\n",
      "[11:35:30] INFO: ../src/tree/updater_prune.cc:101: tree pruning end, 94 extra nodes, 0 pruned nodes, max_depth=6\n",
      "[11:35:31] INFO: ../src/tree/updater_prune.cc:101: tree pruning end, 68 extra nodes, 0 pruned nodes, max_depth=6\n",
      "[11:35:32] INFO: ../src/tree/updater_prune.cc:101: tree pruning end, 96 extra nodes, 0 pruned nodes, max_depth=6\n",
      "[11:35:32] INFO: ../src/tree/updater_prune.cc:101: tree pruning end, 82 extra nodes, 0 pruned nodes, max_depth=6\n",
      "[11:35:33] INFO: ../src/tree/updater_prune.cc:101: tree pruning end, 64 extra nodes, 0 pruned nodes, max_depth=6\n",
      "[11:35:34] INFO: ../src/tree/updater_prune.cc:101: tree pruning end, 106 extra nodes, 0 pruned nodes, max_depth=6\n",
      "[11:35:34] INFO: ../src/tree/updater_prune.cc:101: tree pruning end, 74 extra nodes, 0 pruned nodes, max_depth=6\n",
      "[11:35:35] INFO: ../src/tree/updater_prune.cc:101: tree pruning end, 36 extra nodes, 0 pruned nodes, max_depth=6\n",
      "[11:35:35] INFO: ../src/tree/updater_prune.cc:101: tree pruning end, 90 extra nodes, 0 pruned nodes, max_depth=6\n",
      "[11:35:36] INFO: ../src/tree/updater_prune.cc:101: tree pruning end, 116 extra nodes, 0 pruned nodes, max_depth=6\n",
      "[11:35:37] INFO: ../src/tree/updater_prune.cc:101: tree pruning end, 66 extra nodes, 0 pruned nodes, max_depth=6\n",
      "[11:35:38] INFO: ../src/tree/updater_prune.cc:101: tree pruning end, 102 extra nodes, 0 pruned nodes, max_depth=6\n",
      "[11:35:38] INFO: ../src/tree/updater_prune.cc:101: tree pruning end, 80 extra nodes, 0 pruned nodes, max_depth=6\n",
      "[11:35:39] INFO: ../src/tree/updater_prune.cc:101: tree pruning end, 122 extra nodes, 0 pruned nodes, max_depth=6\n",
      "[11:35:40] INFO: ../src/tree/updater_prune.cc:101: tree pruning end, 100 extra nodes, 0 pruned nodes, max_depth=6\n",
      "[11:35:40] INFO: ../src/tree/updater_prune.cc:101: tree pruning end, 116 extra nodes, 0 pruned nodes, max_depth=6\n",
      "[11:35:41] INFO: ../src/tree/updater_prune.cc:101: tree pruning end, 114 extra nodes, 0 pruned nodes, max_depth=6\n",
      "[11:35:42] INFO: ../src/tree/updater_prune.cc:101: tree pruning end, 98 extra nodes, 0 pruned nodes, max_depth=6\n",
      "[11:35:43] INFO: ../src/tree/updater_prune.cc:101: tree pruning end, 114 extra nodes, 0 pruned nodes, max_depth=6\n",
      "[11:35:43] INFO: ../src/tree/updater_prune.cc:101: tree pruning end, 124 extra nodes, 0 pruned nodes, max_depth=6\n",
      "[11:35:44] INFO: ../src/tree/updater_prune.cc:101: tree pruning end, 112 extra nodes, 0 pruned nodes, max_depth=6\n",
      "[11:35:45] INFO: ../src/tree/updater_prune.cc:101: tree pruning end, 86 extra nodes, 0 pruned nodes, max_depth=6\n",
      "[11:35:45] INFO: ../src/tree/updater_prune.cc:101: tree pruning end, 122 extra nodes, 0 pruned nodes, max_depth=6\n",
      "[11:35:46] INFO: ../src/tree/updater_prune.cc:101: tree pruning end, 110 extra nodes, 0 pruned nodes, max_depth=6\n",
      "[11:35:47] INFO: ../src/tree/updater_prune.cc:101: tree pruning end, 94 extra nodes, 0 pruned nodes, max_depth=6\n",
      "[11:35:47] INFO: ../src/tree/updater_prune.cc:101: tree pruning end, 88 extra nodes, 0 pruned nodes, max_depth=6\n",
      "[11:35:48] INFO: ../src/tree/updater_prune.cc:101: tree pruning end, 66 extra nodes, 0 pruned nodes, max_depth=6\n",
      "[11:35:49] INFO: ../src/tree/updater_prune.cc:101: tree pruning end, 52 extra nodes, 0 pruned nodes, max_depth=6\n",
      "[11:35:49] INFO: ../src/tree/updater_prune.cc:101: tree pruning end, 104 extra nodes, 0 pruned nodes, max_depth=6\n",
      "[11:35:50] INFO: ../src/tree/updater_prune.cc:101: tree pruning end, 64 extra nodes, 0 pruned nodes, max_depth=6\n",
      "[11:35:50] INFO: ../src/tree/updater_prune.cc:101: tree pruning end, 94 extra nodes, 0 pruned nodes, max_depth=6\n",
      "[11:35:51] INFO: ../src/tree/updater_prune.cc:101: tree pruning end, 126 extra nodes, 0 pruned nodes, max_depth=6\n",
      "[11:35:52] INFO: ../src/tree/updater_prune.cc:101: tree pruning end, 74 extra nodes, 0 pruned nodes, max_depth=6\n",
      "[11:35:53] INFO: ../src/tree/updater_prune.cc:101: tree pruning end, 120 extra nodes, 0 pruned nodes, max_depth=6\n",
      "[11:35:53] INFO: ../src/tree/updater_prune.cc:101: tree pruning end, 118 extra nodes, 0 pruned nodes, max_depth=6\n",
      "[11:35:54] INFO: ../src/tree/updater_prune.cc:101: tree pruning end, 106 extra nodes, 0 pruned nodes, max_depth=6\n",
      "[11:35:55] INFO: ../src/tree/updater_prune.cc:101: tree pruning end, 94 extra nodes, 0 pruned nodes, max_depth=6\n",
      "[11:35:56] INFO: ../src/tree/updater_prune.cc:101: tree pruning end, 124 extra nodes, 0 pruned nodes, max_depth=6\n",
      "[11:35:56] INFO: ../src/tree/updater_prune.cc:101: tree pruning end, 28 extra nodes, 0 pruned nodes, max_depth=6\n",
      "[11:35:57] INFO: ../src/tree/updater_prune.cc:101: tree pruning end, 102 extra nodes, 0 pruned nodes, max_depth=6\n",
      "[11:35:57] INFO: ../src/tree/updater_prune.cc:101: tree pruning end, 70 extra nodes, 0 pruned nodes, max_depth=6\n",
      "[11:35:58] INFO: ../src/tree/updater_prune.cc:101: tree pruning end, 110 extra nodes, 0 pruned nodes, max_depth=6\n",
      "[11:35:59] INFO: ../src/tree/updater_prune.cc:101: tree pruning end, 104 extra nodes, 0 pruned nodes, max_depth=6\n"
     ]
    },
    {
     "name": "stdout",
     "output_type": "stream",
     "text": [
      "[11:35:59] INFO: ../src/tree/updater_prune.cc:101: tree pruning end, 110 extra nodes, 0 pruned nodes, max_depth=6\n",
      "[11:36:00] INFO: ../src/tree/updater_prune.cc:101: tree pruning end, 56 extra nodes, 0 pruned nodes, max_depth=6\n",
      "[11:36:01] INFO: ../src/tree/updater_prune.cc:101: tree pruning end, 116 extra nodes, 0 pruned nodes, max_depth=6\n",
      "[11:36:01] INFO: ../src/tree/updater_prune.cc:101: tree pruning end, 90 extra nodes, 0 pruned nodes, max_depth=6\n",
      "[11:36:02] INFO: ../src/tree/updater_prune.cc:101: tree pruning end, 116 extra nodes, 0 pruned nodes, max_depth=6\n",
      "[11:36:03] INFO: ../src/tree/updater_prune.cc:101: tree pruning end, 122 extra nodes, 0 pruned nodes, max_depth=6\n",
      "[11:36:04] INFO: ../src/tree/updater_prune.cc:101: tree pruning end, 98 extra nodes, 0 pruned nodes, max_depth=6\n",
      "[11:36:05] INFO: ../src/tree/updater_prune.cc:101: tree pruning end, 120 extra nodes, 0 pruned nodes, max_depth=6\n",
      "[11:36:05] INFO: ../src/tree/updater_prune.cc:101: tree pruning end, 118 extra nodes, 0 pruned nodes, max_depth=6\n",
      "[11:36:06] INFO: ../src/tree/updater_prune.cc:101: tree pruning end, 118 extra nodes, 0 pruned nodes, max_depth=6\n",
      "[11:36:07] INFO: ../src/tree/updater_prune.cc:101: tree pruning end, 116 extra nodes, 0 pruned nodes, max_depth=6\n",
      "[11:36:07] INFO: ../src/tree/updater_prune.cc:101: tree pruning end, 118 extra nodes, 0 pruned nodes, max_depth=6\n",
      "[11:36:08] INFO: ../src/tree/updater_prune.cc:101: tree pruning end, 78 extra nodes, 0 pruned nodes, max_depth=6\n",
      "[11:36:09] INFO: ../src/tree/updater_prune.cc:101: tree pruning end, 118 extra nodes, 0 pruned nodes, max_depth=6\n",
      "[11:36:10] INFO: ../src/tree/updater_prune.cc:101: tree pruning end, 118 extra nodes, 0 pruned nodes, max_depth=6\n",
      "[11:36:10] INFO: ../src/tree/updater_prune.cc:101: tree pruning end, 66 extra nodes, 0 pruned nodes, max_depth=6\n",
      "[11:36:11] INFO: ../src/tree/updater_prune.cc:101: tree pruning end, 70 extra nodes, 0 pruned nodes, max_depth=6\n",
      "[11:36:12] INFO: ../src/tree/updater_prune.cc:101: tree pruning end, 118 extra nodes, 0 pruned nodes, max_depth=6\n",
      "[11:36:12] INFO: ../src/tree/updater_prune.cc:101: tree pruning end, 108 extra nodes, 0 pruned nodes, max_depth=6\n",
      "[11:36:13] INFO: ../src/tree/updater_prune.cc:101: tree pruning end, 114 extra nodes, 0 pruned nodes, max_depth=6\n",
      "[11:36:14] INFO: ../src/tree/updater_prune.cc:101: tree pruning end, 108 extra nodes, 0 pruned nodes, max_depth=6\n",
      "[11:36:14] INFO: ../src/tree/updater_prune.cc:101: tree pruning end, 112 extra nodes, 0 pruned nodes, max_depth=6\n",
      "[11:36:15] INFO: ../src/tree/updater_prune.cc:101: tree pruning end, 114 extra nodes, 0 pruned nodes, max_depth=6\n",
      "[11:36:16] INFO: ../src/tree/updater_prune.cc:101: tree pruning end, 124 extra nodes, 0 pruned nodes, max_depth=6\n",
      "[11:36:17] INFO: ../src/tree/updater_prune.cc:101: tree pruning end, 116 extra nodes, 0 pruned nodes, max_depth=6\n",
      "[11:36:18] INFO: ../src/tree/updater_prune.cc:101: tree pruning end, 100 extra nodes, 0 pruned nodes, max_depth=6\n",
      "[11:36:18] INFO: ../src/tree/updater_prune.cc:101: tree pruning end, 126 extra nodes, 0 pruned nodes, max_depth=6\n",
      "[11:36:19] INFO: ../src/tree/updater_prune.cc:101: tree pruning end, 114 extra nodes, 0 pruned nodes, max_depth=6\n",
      "[11:36:20] INFO: ../src/tree/updater_prune.cc:101: tree pruning end, 52 extra nodes, 0 pruned nodes, max_depth=6\n",
      "[11:36:20] INFO: ../src/tree/updater_prune.cc:101: tree pruning end, 44 extra nodes, 0 pruned nodes, max_depth=6\n"
     ]
    },
    {
     "data": {
      "text/plain": [
       "XGBClassifier(base_score=0.5, booster='gbtree', colsample_bylevel=1,\n",
       "              colsample_bynode=1, colsample_bytree=1, enable_categorical=False,\n",
       "              gamma=0, gpu_id=-1, importance_type=None,\n",
       "              interaction_constraints='', learning_rate=0.300000012,\n",
       "              max_delta_step=0, max_depth=6, min_child_weight=1, missing=nan,\n",
       "              monotone_constraints='()', n_estimators=100, n_jobs=10,\n",
       "              num_parallel_tree=1, predictor='auto', random_state=0,\n",
       "              reg_alpha=0, reg_lambda=1, scale_pos_weight=1, subsample=1,\n",
       "              tree_method='exact', validate_parameters=1, verbosity=2)"
      ]
     },
     "execution_count": 122,
     "metadata": {},
     "output_type": "execute_result"
    }
   ],
   "source": [
    "# Code \n",
    "import xgboost as xgb\n",
    "\n",
    "model = model = xgb.XGBClassifier(n_estimators=100, n_jobs=10, verbosity=2, use_label_encoder=False)\n",
    "model.fit(X_train, Y_train)"
   ]
  },
  {
   "cell_type": "code",
   "execution_count": 123,
   "id": "15e40e5b",
   "metadata": {
    "ExecuteTime": {
     "end_time": "2022-04-15T10:36:20.969212Z",
     "start_time": "2022-04-15T10:36:20.780622Z"
    }
   },
   "outputs": [
    {
     "name": "stdout",
     "output_type": "stream",
     "text": [
      "              precision    recall  f1-score   support\n",
      "\n",
      "       False       0.82      0.81      0.81     49289\n",
      "        True       0.81      0.82      0.82     48907\n",
      "\n",
      "    accuracy                           0.81     98196\n",
      "   macro avg       0.81      0.81      0.81     98196\n",
      "weighted avg       0.81      0.81      0.81     98196\n",
      "\n"
     ]
    }
   ],
   "source": [
    "print(classification_report(Y_train, model.predict(X_train)))"
   ]
  },
  {
   "cell_type": "code",
   "execution_count": 124,
   "id": "f46582dc",
   "metadata": {
    "ExecuteTime": {
     "end_time": "2022-04-15T10:36:20.985032Z",
     "start_time": "2022-04-15T10:36:20.970439Z"
    }
   },
   "outputs": [
    {
     "name": "stdout",
     "output_type": "stream",
     "text": [
      "              precision    recall  f1-score   support\n",
      "\n",
      "       False       0.56      0.40      0.47      2868\n",
      "        True       0.45      0.61      0.52      2301\n",
      "\n",
      "    accuracy                           0.49      5169\n",
      "   macro avg       0.50      0.50      0.49      5169\n",
      "weighted avg       0.51      0.49      0.49      5169\n",
      "\n"
     ]
    }
   ],
   "source": [
    "print(classification_report(Y_test, model.predict(X_test)))"
   ]
  },
  {
   "cell_type": "code",
   "execution_count": 125,
   "id": "a48bdf65",
   "metadata": {
    "ExecuteTime": {
     "end_time": "2022-04-15T10:36:20.989594Z",
     "start_time": "2022-04-15T10:36:20.986372Z"
    }
   },
   "outputs": [
    {
     "data": {
      "text/plain": [
       "XGBClassifier(base_score=0.5, booster='gbtree', colsample_bylevel=1,\n",
       "              colsample_bynode=1, colsample_bytree=1, enable_categorical=False,\n",
       "              gamma=0, gpu_id=-1, importance_type=None,\n",
       "              interaction_constraints='', learning_rate=0.300000012,\n",
       "              max_delta_step=0, max_depth=6, min_child_weight=1, missing=nan,\n",
       "              monotone_constraints='()', n_estimators=100, n_jobs=10,\n",
       "              num_parallel_tree=1, predictor='auto', random_state=0,\n",
       "              reg_alpha=0, reg_lambda=1, scale_pos_weight=1, subsample=1,\n",
       "              tree_method='exact', validate_parameters=1, verbosity=2)"
      ]
     },
     "execution_count": 125,
     "metadata": {},
     "output_type": "execute_result"
    }
   ],
   "source": [
    "model"
   ]
  },
  {
   "cell_type": "code",
   "execution_count": 127,
   "id": "a541cba1",
   "metadata": {
    "ExecuteTime": {
     "end_time": "2022-04-15T10:38:18.312437Z",
     "start_time": "2022-04-15T10:37:54.528900Z"
    }
   },
   "outputs": [
    {
     "name": "stdout",
     "output_type": "stream",
     "text": [
      "[11:37:54] INFO: ../src/gbm/gbtree.cc:177: Tree method is selected to be 'hist', which uses a single updater grow_quantile_histmaker.\n",
      "[11:37:54] INFO: ../src/gbm/gbtree.cc:177: Tree method is selected to be 'hist', which uses a single updater grow_quantile_histmaker.\n",
      "[11:37:57] INFO: ../src/tree/updater_prune.cc:101: tree pruning end, 122 extra nodes, 0 pruned nodes, max_depth=6\n",
      "[11:37:57] WARNING: ../src/learner.cc:1115: Starting in XGBoost 1.3.0, the default evaluation metric used with the objective 'binary:logistic' was changed from 'error' to 'logloss'. Explicitly set eval_metric if you'd like to restore the old behavior.\n",
      "[11:37:57] INFO: ../src/gbm/gbtree.cc:177: Tree method is selected to be 'hist', which uses a single updater grow_quantile_histmaker.\n",
      "[11:37:57] INFO: ../src/tree/updater_prune.cc:101: tree pruning end, 124 extra nodes, 0 pruned nodes, max_depth=6\n",
      "[11:37:57] INFO: ../src/gbm/gbtree.cc:177: Tree method is selected to be 'hist', which uses a single updater grow_quantile_histmaker.\n",
      "[11:37:57] INFO: ../src/tree/updater_prune.cc:101: tree pruning end, 116 extra nodes, 0 pruned nodes, max_depth=6\n",
      "[11:37:57] INFO: ../src/gbm/gbtree.cc:177: Tree method is selected to be 'hist', which uses a single updater grow_quantile_histmaker.\n",
      "[11:37:57] INFO: ../src/tree/updater_prune.cc:101: tree pruning end, 114 extra nodes, 0 pruned nodes, max_depth=6\n",
      "[11:37:57] INFO: ../src/gbm/gbtree.cc:177: Tree method is selected to be 'hist', which uses a single updater grow_quantile_histmaker.\n",
      "[11:37:58] INFO: ../src/tree/updater_prune.cc:101: tree pruning end, 122 extra nodes, 0 pruned nodes, max_depth=6\n",
      "[11:37:58] INFO: ../src/gbm/gbtree.cc:177: Tree method is selected to be 'hist', which uses a single updater grow_quantile_histmaker.\n",
      "[11:37:58] INFO: ../src/tree/updater_prune.cc:101: tree pruning end, 106 extra nodes, 0 pruned nodes, max_depth=6\n",
      "[11:37:58] INFO: ../src/gbm/gbtree.cc:177: Tree method is selected to be 'hist', which uses a single updater grow_quantile_histmaker.\n",
      "[11:37:58] INFO: ../src/tree/updater_prune.cc:101: tree pruning end, 108 extra nodes, 0 pruned nodes, max_depth=6\n",
      "[11:37:58] INFO: ../src/gbm/gbtree.cc:177: Tree method is selected to be 'hist', which uses a single updater grow_quantile_histmaker.\n",
      "[11:37:58] INFO: ../src/tree/updater_prune.cc:101: tree pruning end, 120 extra nodes, 0 pruned nodes, max_depth=6\n",
      "[11:37:58] INFO: ../src/gbm/gbtree.cc:177: Tree method is selected to be 'hist', which uses a single updater grow_quantile_histmaker.\n",
      "[11:37:59] INFO: ../src/tree/updater_prune.cc:101: tree pruning end, 108 extra nodes, 0 pruned nodes, max_depth=6\n",
      "[11:37:59] INFO: ../src/gbm/gbtree.cc:177: Tree method is selected to be 'hist', which uses a single updater grow_quantile_histmaker.\n",
      "[11:37:59] INFO: ../src/tree/updater_prune.cc:101: tree pruning end, 126 extra nodes, 0 pruned nodes, max_depth=6\n",
      "[11:37:59] INFO: ../src/gbm/gbtree.cc:177: Tree method is selected to be 'hist', which uses a single updater grow_quantile_histmaker.\n",
      "[11:37:59] INFO: ../src/tree/updater_prune.cc:101: tree pruning end, 106 extra nodes, 0 pruned nodes, max_depth=6\n",
      "[11:37:59] INFO: ../src/gbm/gbtree.cc:177: Tree method is selected to be 'hist', which uses a single updater grow_quantile_histmaker.\n",
      "[11:37:59] INFO: ../src/tree/updater_prune.cc:101: tree pruning end, 124 extra nodes, 0 pruned nodes, max_depth=6\n",
      "[11:37:59] INFO: ../src/gbm/gbtree.cc:177: Tree method is selected to be 'hist', which uses a single updater grow_quantile_histmaker.\n",
      "[11:38:00] INFO: ../src/tree/updater_prune.cc:101: tree pruning end, 72 extra nodes, 0 pruned nodes, max_depth=6\n",
      "[11:38:00] INFO: ../src/gbm/gbtree.cc:177: Tree method is selected to be 'hist', which uses a single updater grow_quantile_histmaker.\n",
      "[11:38:00] INFO: ../src/tree/updater_prune.cc:101: tree pruning end, 118 extra nodes, 0 pruned nodes, max_depth=6\n",
      "[11:38:00] INFO: ../src/gbm/gbtree.cc:177: Tree method is selected to be 'hist', which uses a single updater grow_quantile_histmaker.\n",
      "[11:38:00] INFO: ../src/tree/updater_prune.cc:101: tree pruning end, 98 extra nodes, 0 pruned nodes, max_depth=6\n",
      "[11:38:00] INFO: ../src/gbm/gbtree.cc:177: Tree method is selected to be 'hist', which uses a single updater grow_quantile_histmaker.\n",
      "[11:38:00] INFO: ../src/tree/updater_prune.cc:101: tree pruning end, 120 extra nodes, 0 pruned nodes, max_depth=6\n",
      "[11:38:00] INFO: ../src/gbm/gbtree.cc:177: Tree method is selected to be 'hist', which uses a single updater grow_quantile_histmaker.\n",
      "[11:38:01] INFO: ../src/tree/updater_prune.cc:101: tree pruning end, 114 extra nodes, 0 pruned nodes, max_depth=6\n",
      "[11:38:01] INFO: ../src/gbm/gbtree.cc:177: Tree method is selected to be 'hist', which uses a single updater grow_quantile_histmaker.\n",
      "[11:38:01] INFO: ../src/tree/updater_prune.cc:101: tree pruning end, 98 extra nodes, 0 pruned nodes, max_depth=6\n",
      "[11:38:01] INFO: ../src/gbm/gbtree.cc:177: Tree method is selected to be 'hist', which uses a single updater grow_quantile_histmaker.\n",
      "[11:38:01] INFO: ../src/tree/updater_prune.cc:101: tree pruning end, 122 extra nodes, 0 pruned nodes, max_depth=6\n",
      "[11:38:01] INFO: ../src/gbm/gbtree.cc:177: Tree method is selected to be 'hist', which uses a single updater grow_quantile_histmaker.\n",
      "[11:38:01] INFO: ../src/tree/updater_prune.cc:101: tree pruning end, 106 extra nodes, 0 pruned nodes, max_depth=6\n",
      "[11:38:01] INFO: ../src/gbm/gbtree.cc:177: Tree method is selected to be 'hist', which uses a single updater grow_quantile_histmaker.\n",
      "[11:38:01] INFO: ../src/tree/updater_prune.cc:101: tree pruning end, 90 extra nodes, 0 pruned nodes, max_depth=6\n",
      "[11:38:01] INFO: ../src/gbm/gbtree.cc:177: Tree method is selected to be 'hist', which uses a single updater grow_quantile_histmaker.\n",
      "[11:38:02] INFO: ../src/tree/updater_prune.cc:101: tree pruning end, 72 extra nodes, 0 pruned nodes, max_depth=6\n",
      "[11:38:02] INFO: ../src/gbm/gbtree.cc:177: Tree method is selected to be 'hist', which uses a single updater grow_quantile_histmaker.\n",
      "[11:38:02] INFO: ../src/tree/updater_prune.cc:101: tree pruning end, 122 extra nodes, 0 pruned nodes, max_depth=6\n",
      "[11:38:02] INFO: ../src/gbm/gbtree.cc:177: Tree method is selected to be 'hist', which uses a single updater grow_quantile_histmaker.\n",
      "[11:38:02] INFO: ../src/tree/updater_prune.cc:101: tree pruning end, 112 extra nodes, 0 pruned nodes, max_depth=6\n",
      "[11:38:02] INFO: ../src/gbm/gbtree.cc:177: Tree method is selected to be 'hist', which uses a single updater grow_quantile_histmaker.\n",
      "[11:38:02] INFO: ../src/tree/updater_prune.cc:101: tree pruning end, 114 extra nodes, 0 pruned nodes, max_depth=6\n",
      "[11:38:02] INFO: ../src/gbm/gbtree.cc:177: Tree method is selected to be 'hist', which uses a single updater grow_quantile_histmaker.\n",
      "[11:38:03] INFO: ../src/tree/updater_prune.cc:101: tree pruning end, 112 extra nodes, 0 pruned nodes, max_depth=6\n",
      "[11:38:03] INFO: ../src/gbm/gbtree.cc:177: Tree method is selected to be 'hist', which uses a single updater grow_quantile_histmaker.\n",
      "[11:38:03] INFO: ../src/tree/updater_prune.cc:101: tree pruning end, 122 extra nodes, 0 pruned nodes, max_depth=6\n",
      "[11:38:03] INFO: ../src/gbm/gbtree.cc:177: Tree method is selected to be 'hist', which uses a single updater grow_quantile_histmaker.\n",
      "[11:38:03] INFO: ../src/tree/updater_prune.cc:101: tree pruning end, 120 extra nodes, 0 pruned nodes, max_depth=6\n",
      "[11:38:03] INFO: ../src/gbm/gbtree.cc:177: Tree method is selected to be 'hist', which uses a single updater grow_quantile_histmaker.\n",
      "[11:38:03] INFO: ../src/tree/updater_prune.cc:101: tree pruning end, 118 extra nodes, 0 pruned nodes, max_depth=6\n",
      "[11:38:03] INFO: ../src/gbm/gbtree.cc:177: Tree method is selected to be 'hist', which uses a single updater grow_quantile_histmaker.\n",
      "[11:38:03] INFO: ../src/tree/updater_prune.cc:101: tree pruning end, 110 extra nodes, 0 pruned nodes, max_depth=6\n",
      "[11:38:03] INFO: ../src/gbm/gbtree.cc:177: Tree method is selected to be 'hist', which uses a single updater grow_quantile_histmaker.\n",
      "[11:38:04] INFO: ../src/tree/updater_prune.cc:101: tree pruning end, 118 extra nodes, 0 pruned nodes, max_depth=6\n",
      "[11:38:04] INFO: ../src/gbm/gbtree.cc:177: Tree method is selected to be 'hist', which uses a single updater grow_quantile_histmaker.\n"
     ]
    },
    {
     "name": "stdout",
     "output_type": "stream",
     "text": [
      "[11:38:04] INFO: ../src/tree/updater_prune.cc:101: tree pruning end, 126 extra nodes, 0 pruned nodes, max_depth=6\n",
      "[11:38:04] INFO: ../src/gbm/gbtree.cc:177: Tree method is selected to be 'hist', which uses a single updater grow_quantile_histmaker.\n",
      "[11:38:04] INFO: ../src/tree/updater_prune.cc:101: tree pruning end, 108 extra nodes, 0 pruned nodes, max_depth=6\n",
      "[11:38:04] INFO: ../src/gbm/gbtree.cc:177: Tree method is selected to be 'hist', which uses a single updater grow_quantile_histmaker.\n",
      "[11:38:04] INFO: ../src/tree/updater_prune.cc:101: tree pruning end, 98 extra nodes, 0 pruned nodes, max_depth=6\n",
      "[11:38:04] INFO: ../src/gbm/gbtree.cc:177: Tree method is selected to be 'hist', which uses a single updater grow_quantile_histmaker.\n",
      "[11:38:05] INFO: ../src/tree/updater_prune.cc:101: tree pruning end, 108 extra nodes, 0 pruned nodes, max_depth=6\n",
      "[11:38:05] INFO: ../src/gbm/gbtree.cc:177: Tree method is selected to be 'hist', which uses a single updater grow_quantile_histmaker.\n",
      "[11:38:05] INFO: ../src/tree/updater_prune.cc:101: tree pruning end, 76 extra nodes, 0 pruned nodes, max_depth=6\n",
      "[11:38:05] INFO: ../src/gbm/gbtree.cc:177: Tree method is selected to be 'hist', which uses a single updater grow_quantile_histmaker.\n",
      "[11:38:05] INFO: ../src/tree/updater_prune.cc:101: tree pruning end, 96 extra nodes, 0 pruned nodes, max_depth=6\n",
      "[11:38:05] INFO: ../src/gbm/gbtree.cc:177: Tree method is selected to be 'hist', which uses a single updater grow_quantile_histmaker.\n",
      "[11:38:05] INFO: ../src/tree/updater_prune.cc:101: tree pruning end, 120 extra nodes, 0 pruned nodes, max_depth=6\n",
      "[11:38:05] INFO: ../src/gbm/gbtree.cc:177: Tree method is selected to be 'hist', which uses a single updater grow_quantile_histmaker.\n",
      "[11:38:05] INFO: ../src/tree/updater_prune.cc:101: tree pruning end, 126 extra nodes, 0 pruned nodes, max_depth=6\n",
      "[11:38:05] INFO: ../src/gbm/gbtree.cc:177: Tree method is selected to be 'hist', which uses a single updater grow_quantile_histmaker.\n",
      "[11:38:06] INFO: ../src/tree/updater_prune.cc:101: tree pruning end, 114 extra nodes, 0 pruned nodes, max_depth=6\n",
      "[11:38:06] INFO: ../src/gbm/gbtree.cc:177: Tree method is selected to be 'hist', which uses a single updater grow_quantile_histmaker.\n",
      "[11:38:06] INFO: ../src/tree/updater_prune.cc:101: tree pruning end, 98 extra nodes, 0 pruned nodes, max_depth=6\n",
      "[11:38:06] INFO: ../src/gbm/gbtree.cc:177: Tree method is selected to be 'hist', which uses a single updater grow_quantile_histmaker.\n",
      "[11:38:06] INFO: ../src/tree/updater_prune.cc:101: tree pruning end, 106 extra nodes, 0 pruned nodes, max_depth=6\n",
      "[11:38:06] INFO: ../src/gbm/gbtree.cc:177: Tree method is selected to be 'hist', which uses a single updater grow_quantile_histmaker.\n",
      "[11:38:06] INFO: ../src/tree/updater_prune.cc:101: tree pruning end, 124 extra nodes, 0 pruned nodes, max_depth=6\n",
      "[11:38:06] INFO: ../src/gbm/gbtree.cc:177: Tree method is selected to be 'hist', which uses a single updater grow_quantile_histmaker.\n",
      "[11:38:07] INFO: ../src/tree/updater_prune.cc:101: tree pruning end, 102 extra nodes, 0 pruned nodes, max_depth=6\n",
      "[11:38:07] INFO: ../src/gbm/gbtree.cc:177: Tree method is selected to be 'hist', which uses a single updater grow_quantile_histmaker.\n",
      "[11:38:07] INFO: ../src/tree/updater_prune.cc:101: tree pruning end, 118 extra nodes, 0 pruned nodes, max_depth=6\n",
      "[11:38:07] INFO: ../src/gbm/gbtree.cc:177: Tree method is selected to be 'hist', which uses a single updater grow_quantile_histmaker.\n",
      "[11:38:07] INFO: ../src/tree/updater_prune.cc:101: tree pruning end, 88 extra nodes, 0 pruned nodes, max_depth=6\n",
      "[11:38:07] INFO: ../src/gbm/gbtree.cc:177: Tree method is selected to be 'hist', which uses a single updater grow_quantile_histmaker.\n",
      "[11:38:07] INFO: ../src/tree/updater_prune.cc:101: tree pruning end, 122 extra nodes, 0 pruned nodes, max_depth=6\n",
      "[11:38:07] INFO: ../src/gbm/gbtree.cc:177: Tree method is selected to be 'hist', which uses a single updater grow_quantile_histmaker.\n",
      "[11:38:07] INFO: ../src/tree/updater_prune.cc:101: tree pruning end, 126 extra nodes, 0 pruned nodes, max_depth=6\n",
      "[11:38:07] INFO: ../src/gbm/gbtree.cc:177: Tree method is selected to be 'hist', which uses a single updater grow_quantile_histmaker.\n",
      "[11:38:08] INFO: ../src/tree/updater_prune.cc:101: tree pruning end, 124 extra nodes, 0 pruned nodes, max_depth=6\n",
      "[11:38:08] INFO: ../src/gbm/gbtree.cc:177: Tree method is selected to be 'hist', which uses a single updater grow_quantile_histmaker.\n",
      "[11:38:08] INFO: ../src/tree/updater_prune.cc:101: tree pruning end, 110 extra nodes, 0 pruned nodes, max_depth=6\n",
      "[11:38:08] INFO: ../src/gbm/gbtree.cc:177: Tree method is selected to be 'hist', which uses a single updater grow_quantile_histmaker.\n",
      "[11:38:08] INFO: ../src/tree/updater_prune.cc:101: tree pruning end, 102 extra nodes, 0 pruned nodes, max_depth=6\n",
      "[11:38:08] INFO: ../src/gbm/gbtree.cc:177: Tree method is selected to be 'hist', which uses a single updater grow_quantile_histmaker.\n",
      "[11:38:08] INFO: ../src/tree/updater_prune.cc:101: tree pruning end, 108 extra nodes, 0 pruned nodes, max_depth=6\n",
      "[11:38:08] INFO: ../src/gbm/gbtree.cc:177: Tree method is selected to be 'hist', which uses a single updater grow_quantile_histmaker.\n",
      "[11:38:08] INFO: ../src/tree/updater_prune.cc:101: tree pruning end, 120 extra nodes, 0 pruned nodes, max_depth=6\n",
      "[11:38:08] INFO: ../src/gbm/gbtree.cc:177: Tree method is selected to be 'hist', which uses a single updater grow_quantile_histmaker.\n",
      "[11:38:09] INFO: ../src/tree/updater_prune.cc:101: tree pruning end, 104 extra nodes, 0 pruned nodes, max_depth=6\n",
      "[11:38:09] INFO: ../src/gbm/gbtree.cc:177: Tree method is selected to be 'hist', which uses a single updater grow_quantile_histmaker.\n",
      "[11:38:09] INFO: ../src/tree/updater_prune.cc:101: tree pruning end, 98 extra nodes, 0 pruned nodes, max_depth=6\n",
      "[11:38:09] INFO: ../src/gbm/gbtree.cc:177: Tree method is selected to be 'hist', which uses a single updater grow_quantile_histmaker.\n",
      "[11:38:09] INFO: ../src/tree/updater_prune.cc:101: tree pruning end, 120 extra nodes, 0 pruned nodes, max_depth=6\n",
      "[11:38:09] INFO: ../src/gbm/gbtree.cc:177: Tree method is selected to be 'hist', which uses a single updater grow_quantile_histmaker.\n",
      "[11:38:09] INFO: ../src/tree/updater_prune.cc:101: tree pruning end, 124 extra nodes, 0 pruned nodes, max_depth=6\n",
      "[11:38:09] INFO: ../src/gbm/gbtree.cc:177: Tree method is selected to be 'hist', which uses a single updater grow_quantile_histmaker.\n",
      "[11:38:09] INFO: ../src/tree/updater_prune.cc:101: tree pruning end, 92 extra nodes, 0 pruned nodes, max_depth=6\n",
      "[11:38:09] INFO: ../src/gbm/gbtree.cc:177: Tree method is selected to be 'hist', which uses a single updater grow_quantile_histmaker.\n",
      "[11:38:10] INFO: ../src/tree/updater_prune.cc:101: tree pruning end, 98 extra nodes, 0 pruned nodes, max_depth=6\n",
      "[11:38:10] INFO: ../src/gbm/gbtree.cc:177: Tree method is selected to be 'hist', which uses a single updater grow_quantile_histmaker.\n",
      "[11:38:10] INFO: ../src/tree/updater_prune.cc:101: tree pruning end, 106 extra nodes, 0 pruned nodes, max_depth=6\n",
      "[11:38:10] INFO: ../src/gbm/gbtree.cc:177: Tree method is selected to be 'hist', which uses a single updater grow_quantile_histmaker.\n",
      "[11:38:10] INFO: ../src/tree/updater_prune.cc:101: tree pruning end, 110 extra nodes, 0 pruned nodes, max_depth=6\n",
      "[11:38:10] INFO: ../src/gbm/gbtree.cc:177: Tree method is selected to be 'hist', which uses a single updater grow_quantile_histmaker.\n",
      "[11:38:10] INFO: ../src/tree/updater_prune.cc:101: tree pruning end, 106 extra nodes, 0 pruned nodes, max_depth=6\n",
      "[11:38:10] INFO: ../src/gbm/gbtree.cc:177: Tree method is selected to be 'hist', which uses a single updater grow_quantile_histmaker.\n",
      "[11:38:10] INFO: ../src/tree/updater_prune.cc:101: tree pruning end, 94 extra nodes, 0 pruned nodes, max_depth=6\n",
      "[11:38:10] INFO: ../src/gbm/gbtree.cc:177: Tree method is selected to be 'hist', which uses a single updater grow_quantile_histmaker.\n",
      "[11:38:11] INFO: ../src/tree/updater_prune.cc:101: tree pruning end, 116 extra nodes, 0 pruned nodes, max_depth=6\n",
      "[11:38:11] INFO: ../src/gbm/gbtree.cc:177: Tree method is selected to be 'hist', which uses a single updater grow_quantile_histmaker.\n",
      "[11:38:11] INFO: ../src/tree/updater_prune.cc:101: tree pruning end, 82 extra nodes, 0 pruned nodes, max_depth=6\n",
      "[11:38:11] INFO: ../src/gbm/gbtree.cc:177: Tree method is selected to be 'hist', which uses a single updater grow_quantile_histmaker.\n"
     ]
    },
    {
     "name": "stdout",
     "output_type": "stream",
     "text": [
      "[11:38:11] INFO: ../src/tree/updater_prune.cc:101: tree pruning end, 88 extra nodes, 0 pruned nodes, max_depth=6\n",
      "[11:38:11] INFO: ../src/gbm/gbtree.cc:177: Tree method is selected to be 'hist', which uses a single updater grow_quantile_histmaker.\n",
      "[11:38:11] INFO: ../src/tree/updater_prune.cc:101: tree pruning end, 98 extra nodes, 0 pruned nodes, max_depth=6\n",
      "[11:38:11] INFO: ../src/gbm/gbtree.cc:177: Tree method is selected to be 'hist', which uses a single updater grow_quantile_histmaker.\n",
      "[11:38:11] INFO: ../src/tree/updater_prune.cc:101: tree pruning end, 126 extra nodes, 0 pruned nodes, max_depth=6\n",
      "[11:38:11] INFO: ../src/gbm/gbtree.cc:177: Tree method is selected to be 'hist', which uses a single updater grow_quantile_histmaker.\n",
      "[11:38:12] INFO: ../src/tree/updater_prune.cc:101: tree pruning end, 114 extra nodes, 0 pruned nodes, max_depth=6\n",
      "[11:38:12] INFO: ../src/gbm/gbtree.cc:177: Tree method is selected to be 'hist', which uses a single updater grow_quantile_histmaker.\n",
      "[11:38:12] INFO: ../src/tree/updater_prune.cc:101: tree pruning end, 120 extra nodes, 0 pruned nodes, max_depth=6\n",
      "[11:38:12] INFO: ../src/gbm/gbtree.cc:177: Tree method is selected to be 'hist', which uses a single updater grow_quantile_histmaker.\n",
      "[11:38:12] INFO: ../src/tree/updater_prune.cc:101: tree pruning end, 70 extra nodes, 0 pruned nodes, max_depth=6\n",
      "[11:38:12] INFO: ../src/gbm/gbtree.cc:177: Tree method is selected to be 'hist', which uses a single updater grow_quantile_histmaker.\n",
      "[11:38:12] INFO: ../src/tree/updater_prune.cc:101: tree pruning end, 90 extra nodes, 0 pruned nodes, max_depth=6\n",
      "[11:38:12] INFO: ../src/gbm/gbtree.cc:177: Tree method is selected to be 'hist', which uses a single updater grow_quantile_histmaker.\n",
      "[11:38:12] INFO: ../src/tree/updater_prune.cc:101: tree pruning end, 120 extra nodes, 0 pruned nodes, max_depth=6\n",
      "[11:38:12] INFO: ../src/gbm/gbtree.cc:177: Tree method is selected to be 'hist', which uses a single updater grow_quantile_histmaker.\n",
      "[11:38:13] INFO: ../src/tree/updater_prune.cc:101: tree pruning end, 120 extra nodes, 0 pruned nodes, max_depth=6\n",
      "[11:38:13] INFO: ../src/gbm/gbtree.cc:177: Tree method is selected to be 'hist', which uses a single updater grow_quantile_histmaker.\n",
      "[11:38:13] INFO: ../src/tree/updater_prune.cc:101: tree pruning end, 108 extra nodes, 0 pruned nodes, max_depth=6\n",
      "[11:38:13] INFO: ../src/gbm/gbtree.cc:177: Tree method is selected to be 'hist', which uses a single updater grow_quantile_histmaker.\n",
      "[11:38:13] INFO: ../src/tree/updater_prune.cc:101: tree pruning end, 116 extra nodes, 0 pruned nodes, max_depth=6\n",
      "[11:38:13] INFO: ../src/gbm/gbtree.cc:177: Tree method is selected to be 'hist', which uses a single updater grow_quantile_histmaker.\n",
      "[11:38:13] INFO: ../src/tree/updater_prune.cc:101: tree pruning end, 124 extra nodes, 0 pruned nodes, max_depth=6\n",
      "[11:38:13] INFO: ../src/gbm/gbtree.cc:177: Tree method is selected to be 'hist', which uses a single updater grow_quantile_histmaker.\n",
      "[11:38:13] INFO: ../src/tree/updater_prune.cc:101: tree pruning end, 110 extra nodes, 0 pruned nodes, max_depth=6\n",
      "[11:38:13] INFO: ../src/gbm/gbtree.cc:177: Tree method is selected to be 'hist', which uses a single updater grow_quantile_histmaker.\n",
      "[11:38:14] INFO: ../src/tree/updater_prune.cc:101: tree pruning end, 98 extra nodes, 0 pruned nodes, max_depth=6\n",
      "[11:38:14] INFO: ../src/gbm/gbtree.cc:177: Tree method is selected to be 'hist', which uses a single updater grow_quantile_histmaker.\n",
      "[11:38:14] INFO: ../src/tree/updater_prune.cc:101: tree pruning end, 114 extra nodes, 0 pruned nodes, max_depth=6\n",
      "[11:38:14] INFO: ../src/gbm/gbtree.cc:177: Tree method is selected to be 'hist', which uses a single updater grow_quantile_histmaker.\n",
      "[11:38:14] INFO: ../src/tree/updater_prune.cc:101: tree pruning end, 104 extra nodes, 0 pruned nodes, max_depth=6\n",
      "[11:38:14] INFO: ../src/gbm/gbtree.cc:177: Tree method is selected to be 'hist', which uses a single updater grow_quantile_histmaker.\n",
      "[11:38:14] INFO: ../src/tree/updater_prune.cc:101: tree pruning end, 80 extra nodes, 0 pruned nodes, max_depth=6\n",
      "[11:38:14] INFO: ../src/gbm/gbtree.cc:177: Tree method is selected to be 'hist', which uses a single updater grow_quantile_histmaker.\n",
      "[11:38:14] INFO: ../src/tree/updater_prune.cc:101: tree pruning end, 118 extra nodes, 0 pruned nodes, max_depth=6\n",
      "[11:38:14] INFO: ../src/gbm/gbtree.cc:177: Tree method is selected to be 'hist', which uses a single updater grow_quantile_histmaker.\n",
      "[11:38:15] INFO: ../src/tree/updater_prune.cc:101: tree pruning end, 126 extra nodes, 0 pruned nodes, max_depth=6\n",
      "[11:38:15] INFO: ../src/gbm/gbtree.cc:177: Tree method is selected to be 'hist', which uses a single updater grow_quantile_histmaker.\n",
      "[11:38:15] INFO: ../src/tree/updater_prune.cc:101: tree pruning end, 90 extra nodes, 0 pruned nodes, max_depth=6\n",
      "[11:38:15] INFO: ../src/gbm/gbtree.cc:177: Tree method is selected to be 'hist', which uses a single updater grow_quantile_histmaker.\n",
      "[11:38:15] INFO: ../src/tree/updater_prune.cc:101: tree pruning end, 114 extra nodes, 0 pruned nodes, max_depth=6\n",
      "[11:38:15] INFO: ../src/gbm/gbtree.cc:177: Tree method is selected to be 'hist', which uses a single updater grow_quantile_histmaker.\n",
      "[11:38:15] INFO: ../src/tree/updater_prune.cc:101: tree pruning end, 116 extra nodes, 0 pruned nodes, max_depth=6\n",
      "[11:38:15] INFO: ../src/gbm/gbtree.cc:177: Tree method is selected to be 'hist', which uses a single updater grow_quantile_histmaker.\n",
      "[11:38:15] INFO: ../src/tree/updater_prune.cc:101: tree pruning end, 104 extra nodes, 0 pruned nodes, max_depth=6\n",
      "[11:38:15] INFO: ../src/gbm/gbtree.cc:177: Tree method is selected to be 'hist', which uses a single updater grow_quantile_histmaker.\n",
      "[11:38:16] INFO: ../src/tree/updater_prune.cc:101: tree pruning end, 114 extra nodes, 0 pruned nodes, max_depth=6\n",
      "[11:38:16] INFO: ../src/gbm/gbtree.cc:177: Tree method is selected to be 'hist', which uses a single updater grow_quantile_histmaker.\n",
      "[11:38:16] INFO: ../src/tree/updater_prune.cc:101: tree pruning end, 116 extra nodes, 0 pruned nodes, max_depth=6\n",
      "[11:38:16] INFO: ../src/gbm/gbtree.cc:177: Tree method is selected to be 'hist', which uses a single updater grow_quantile_histmaker.\n",
      "[11:38:16] INFO: ../src/tree/updater_prune.cc:101: tree pruning end, 112 extra nodes, 0 pruned nodes, max_depth=6\n",
      "[11:38:16] INFO: ../src/gbm/gbtree.cc:177: Tree method is selected to be 'hist', which uses a single updater grow_quantile_histmaker.\n",
      "[11:38:16] INFO: ../src/tree/updater_prune.cc:101: tree pruning end, 106 extra nodes, 0 pruned nodes, max_depth=6\n",
      "[11:38:16] INFO: ../src/gbm/gbtree.cc:177: Tree method is selected to be 'hist', which uses a single updater grow_quantile_histmaker.\n",
      "[11:38:16] INFO: ../src/tree/updater_prune.cc:101: tree pruning end, 98 extra nodes, 0 pruned nodes, max_depth=6\n",
      "[11:38:16] INFO: ../src/gbm/gbtree.cc:177: Tree method is selected to be 'hist', which uses a single updater grow_quantile_histmaker.\n",
      "[11:38:17] INFO: ../src/tree/updater_prune.cc:101: tree pruning end, 96 extra nodes, 0 pruned nodes, max_depth=6\n",
      "[11:38:17] INFO: ../src/gbm/gbtree.cc:177: Tree method is selected to be 'hist', which uses a single updater grow_quantile_histmaker.\n",
      "[11:38:17] INFO: ../src/tree/updater_prune.cc:101: tree pruning end, 118 extra nodes, 0 pruned nodes, max_depth=6\n",
      "[11:38:17] INFO: ../src/gbm/gbtree.cc:177: Tree method is selected to be 'hist', which uses a single updater grow_quantile_histmaker.\n",
      "[11:38:17] INFO: ../src/tree/updater_prune.cc:101: tree pruning end, 84 extra nodes, 0 pruned nodes, max_depth=6\n",
      "[11:38:17] INFO: ../src/gbm/gbtree.cc:177: Tree method is selected to be 'hist', which uses a single updater grow_quantile_histmaker.\n",
      "[11:38:17] INFO: ../src/tree/updater_prune.cc:101: tree pruning end, 108 extra nodes, 0 pruned nodes, max_depth=6\n",
      "[11:38:17] INFO: ../src/gbm/gbtree.cc:177: Tree method is selected to be 'hist', which uses a single updater grow_quantile_histmaker.\n",
      "[11:38:17] INFO: ../src/tree/updater_prune.cc:101: tree pruning end, 108 extra nodes, 0 pruned nodes, max_depth=6\n",
      "[11:38:17] INFO: ../src/gbm/gbtree.cc:177: Tree method is selected to be 'hist', which uses a single updater grow_quantile_histmaker.\n",
      "[11:38:18] INFO: ../src/tree/updater_prune.cc:101: tree pruning end, 110 extra nodes, 0 pruned nodes, max_depth=6\n",
      "[11:38:18] INFO: ../src/gbm/gbtree.cc:177: Tree method is selected to be 'hist', which uses a single updater grow_quantile_histmaker.\n"
     ]
    },
    {
     "name": "stdout",
     "output_type": "stream",
     "text": [
      "[11:38:18] INFO: ../src/tree/updater_prune.cc:101: tree pruning end, 120 extra nodes, 0 pruned nodes, max_depth=6\n",
      "[11:38:18] INFO: ../src/gbm/gbtree.cc:177: Tree method is selected to be 'hist', which uses a single updater grow_quantile_histmaker.\n"
     ]
    },
    {
     "data": {
      "text/plain": [
       "XGBClassifier(base_score=0.5, booster='gbtree', colsample_bylevel=1,\n",
       "              colsample_bynode=1, colsample_bytree=1, enable_categorical=False,\n",
       "              gamma=0, gpu_id=-1, importance_type=None,\n",
       "              interaction_constraints='', learning_rate=0.300000012,\n",
       "              max_delta_step=0, max_depth=6, min_child_weight=1, missing=nan,\n",
       "              monotone_constraints='()', n_estimators=100, n_jobs=10,\n",
       "              num_parallel_tree=1, predictor='auto', random_state=0,\n",
       "              reg_alpha=0, reg_lambda=1, scale_pos_weight=1, subsample=1,\n",
       "              tree_method='hist', use_label_encoder=False,\n",
       "              validate_parameters=1, verbosity=2)"
      ]
     },
     "execution_count": 127,
     "metadata": {},
     "output_type": "execute_result"
    }
   ],
   "source": [
    "model = xgb.XGBClassifier(\n",
    "    n_estimators=100, \n",
    "    n_jobs=10, \n",
    "    tree_method=\"hist\", \n",
    "    verbosity=1, \n",
    "    use_label_encoder=False,\n",
    ")\n",
    "model.fit(X_train, Y_train)"
   ]
  },
  {
   "cell_type": "code",
   "execution_count": 128,
   "id": "f54b8dc2",
   "metadata": {
    "ExecuteTime": {
     "end_time": "2022-04-15T10:38:23.042596Z",
     "start_time": "2022-04-15T10:38:22.864182Z"
    }
   },
   "outputs": [
    {
     "name": "stdout",
     "output_type": "stream",
     "text": [
      "              precision    recall  f1-score   support\n",
      "\n",
      "       False       0.82      0.82      0.82     49289\n",
      "        True       0.82      0.82      0.82     48907\n",
      "\n",
      "    accuracy                           0.82     98196\n",
      "   macro avg       0.82      0.82      0.82     98196\n",
      "weighted avg       0.82      0.82      0.82     98196\n",
      "\n"
     ]
    }
   ],
   "source": [
    "print(classification_report(Y_train, model.predict(X_train)))"
   ]
  },
  {
   "cell_type": "code",
   "execution_count": 129,
   "id": "7e4779d3",
   "metadata": {
    "ExecuteTime": {
     "end_time": "2022-04-15T10:38:23.703992Z",
     "start_time": "2022-04-15T10:38:23.688827Z"
    }
   },
   "outputs": [
    {
     "name": "stdout",
     "output_type": "stream",
     "text": [
      "              precision    recall  f1-score   support\n",
      "\n",
      "       False       0.56      0.44      0.49      2868\n",
      "        True       0.45      0.56      0.50      2301\n",
      "\n",
      "    accuracy                           0.49      5169\n",
      "   macro avg       0.50      0.50      0.49      5169\n",
      "weighted avg       0.51      0.49      0.49      5169\n",
      "\n"
     ]
    }
   ],
   "source": [
    "print(classification_report(Y_test, model.predict(X_test)))"
   ]
  },
  {
   "cell_type": "code",
   "execution_count": null,
   "id": "cffdca86",
   "metadata": {},
   "outputs": [],
   "source": []
  }
 ],
 "metadata": {
  "kernelspec": {
   "display_name": "Python 3 (ipykernel)",
   "language": "python",
   "name": "python3"
  },
  "language_info": {
   "codemirror_mode": {
    "name": "ipython",
    "version": 3
   },
   "file_extension": ".py",
   "mimetype": "text/x-python",
   "name": "python",
   "nbconvert_exporter": "python",
   "pygments_lexer": "ipython3",
   "version": "3.9.7"
  },
  "toc": {
   "base_numbering": 1,
   "nav_menu": {},
   "number_sections": false,
   "sideBar": true,
   "skip_h1_title": false,
   "title_cell": "Table of Contents",
   "title_sidebar": "Contents",
   "toc_cell": true,
   "toc_position": {},
   "toc_section_display": true,
   "toc_window_display": true
  }
 },
 "nbformat": 4,
 "nbformat_minor": 5
}
